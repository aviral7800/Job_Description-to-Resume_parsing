{
 "cells": [
  {
   "cell_type": "code",
   "execution_count": 1,
   "metadata": {},
   "outputs": [],
   "source": [
    "import nltk"
   ]
  },
  {
   "cell_type": "code",
   "execution_count": 2,
   "metadata": {},
   "outputs": [],
   "source": [
    "import spacy"
   ]
  },
  {
   "cell_type": "code",
   "execution_count": 3,
   "metadata": {},
   "outputs": [],
   "source": [
    "import re"
   ]
  },
  {
   "cell_type": "code",
   "execution_count": 8,
   "metadata": {},
   "outputs": [],
   "source": [
    "from nltk import sent_tokenize"
   ]
  },
  {
   "cell_type": "code",
   "execution_count": 9,
   "metadata": {},
   "outputs": [],
   "source": [
    "import en_core_web_sm"
   ]
  },
  {
   "cell_type": "code",
   "execution_count": 10,
   "metadata": {},
   "outputs": [],
   "source": [
    "nlp=en_core_web_sm.load()"
   ]
  },
  {
   "cell_type": "code",
   "execution_count": 46,
   "metadata": {},
   "outputs": [],
   "source": [
    "def get_similarity(doc_jd,doc_cv):\n",
    "    doc_cv = open('C:/Users/avira/OneDrive/Desktop/cv1.txt', encoding = 'utf8' , errors = 'replace').read()\n",
    "    doc_jd = open('C:/Users/avira/OneDrive/Desktop/jd1.txt', encoding = 'utf8' , errors = 'replace').read()\n",
    "    lst_jd=[]\n",
    "    keywords=['skill','used','done','exp','responsible','create','develop','work','know','exposure','technique','demo']\n",
    "    for token in nltk.sent_tokenize(doc_jd):\n",
    "        for skill in keywords:\n",
    "            \n",
    "            if re.search(skill,token):\n",
    "                print(token)\n",
    "                lst_jd.append(token)\n",
    "            else:\n",
    "                continue\n",
    "    sentence = ''.join(str(x)for x in lst_jd)\n",
    "    sentence = re.sub(r\"\\.\",\"\",sentence)\n",
    "    doc_jd = nlp(sentence)\n",
    "    \n",
    "    lst_cv=[]\n",
    "    for token in nltk.sent_tokenize(doc_cv):\n",
    "        for skill in keywords:\n",
    "            if re.search(skill,token):\n",
    "                lst_cv.append(token)\n",
    "            else:\n",
    "                continue\n",
    "    sentence = ''.join(str(x)for x in lst_cv)\n",
    "    sentence = re.sub(r\"\\.\",\"\",sentence)\n",
    "    doc_cv= nlp(sentence) \n",
    "    sim = doc_cv.similarity(doc_jd)\n",
    "    return round((sim*100),2)\n",
    "def get_experience(text):\n",
    "    lines = [lines for line in text.split('.') if line]\n",
    "   \n",
    "    all_lines= []\n",
    "   \n",
    "    for line in lines:\n",
    "        for ln in line.split(\"\\n\"):\n",
    "            all_lines.append(ln)\n",
    "           \n",
    "    #csv with all keywords        \n",
    "    keyword_dict = pd.read_csv('vocab/template.csv')\n",
    "    exp_words= [nlp(text) for text in keyword_dict['Experience'].dropna(axis=0)]\n"
   ]
  },
  {
   "cell_type": "code",
   "execution_count": 51,
   "metadata": {},
   "outputs": [],
   "source": [
    "doc_cv = open('C:/Users/avira/OneDrive/Desktop/cv1.txt', encoding = 'utf8' , errors = 'replace').read()"
   ]
  },
  {
   "cell_type": "code",
   "execution_count": 52,
   "metadata": {},
   "outputs": [
    {
     "name": "stdout",
     "output_type": "stream",
     "text": [
      "Arvind Yadav\n",
      "sec-44\n",
      "Noida\n",
      "noida - 201301, Uttar Pradesh\n",
      "Telephone +91.01234567890\n",
      "abc@email.com\n",
      "\n",
      "About Me\n",
      "Mobile App. Developer\n",
      "* Extensive experience of XX years in understanding the customer needs and translating them into mobile application framework and software requirement and specification document; designing mobile applications based on best practices and requirements\n",
      "* Skilled in developing apps according to the latest trends; thoroughly testing the mobile application; providing proper technical and customer support to the clients; writing Documents related to project plan, technical specifications, approach and processes\n",
      "* In-depth understanding of computer programming language and ability to code; knowledge of most types of graphic design software, including object oriented management and metadata management software; ability to think creatively and find unique solutions to problems\n",
      "* Adept in developing and creating mobile applications for multiple platforms; testing and integrating applications; analyzing the market trends for creating next-gen mobile applications; performing debugging and general maintenance of application library\n",
      "Education\n",
      "Master of Business Administration, management\n",
      "ABC School\n",
      "CBSE\n",
      "noida, Uttar Pradesh\n",
      "Completed, March 2003\n",
      "Marks 70 %\n",
      "Division I\n",
      "Work Experience\n",
      "April 2005 - May 2008\n",
      "Developer - Mobile App [general]\n",
      "abc pvt ltd\n",
      "noida, Uttar Pradesh\n",
      "Key Result Areas:\n",
      "* Create mobile games that would be fun, challenging, and unique; currently have developed four mobile app games for the company to great acclaim on the Apple Store\n",
      "* Develop design features and character specs before allowing game to go further into production\n",
      "* Accept criticisms from team members to make gameplay better\n",
      "* * Create new application plans, graphics, and coding; code applications for iPhone and Android market\n",
      "* Lead the team to build modern applications and games; analyze the smartphones market\n",
      "Key Highlights:\n",
      "* Any existing systems/ processes streamlined???? Results obtained???? Major assignments handled????\n",
      "* Any unique initiative taken to improve customer satisfaction level???? Any major accounts/clients handled???\n",
      "* Awards/appreciation letters received???? Other relevant achievements????\n",
      "\n",
      "April 2009 - March 2011\n",
      "Developer - Mobile App [general]\n",
      "XYZ pvt ltd\n",
      "noida, Uttar Pradesh\n",
      "Key Result Areas:\n",
      "* Supported the entire application lifecycle (concept, design, test, release and support)\n",
      "* Produced fully functional mobile applications writing clean code; gathered specific requirements and suggest solutions\n",
      "* Wrote unit and UI tests to identify malfunctions; involved in troubleshooting and debugging to optimize performanceDesigned interfaces to improve user experience; liaised with Product development team to plan new features\n",
      "* Ensured new and legacy applications meet quality standards\n",
      "* Researched and suggested new mobile products, applications and protocols\n",
      "* Stayed up-to-date with new technology trends\n",
      "Key Highlights:\n",
      "* Any existing systems/ processes streamlined???? Results obtained???? Major assignments handled????\n",
      "* Any unique initiative taken to improve customer satisfaction level???? Any major accounts/clients handled???\n",
      "* Awards/appreciation letters received???? Other relevant achievements????\n",
      "Training and Certifications\n",
      "* Arvind Yadav, abc institute, 2005\n",
      "Computer Proficiency\n",
      "Operating Systems\n",
      "* window\n",
      "Software\n",
      "* Todo.vu\n",
      "Languages\n",
      "* Hindi\n",
      "* English\n",
      "Personal Interests\n",
      "Exhibiting a desire to experience new cultures and environments—especially if your role would involve working with foreign colleagues, partners or clients—can really help your resume shine.\n",
      "Personal Details\n",
      "* Father’s Name:Mr. Arvind Yadav\n",
      "* Birthday:April 04, 1994\n",
      "* Gender:Male\n",
      "* Marital Status:Single\n",
      "* Nationality:India\n",
      "Declaration\n",
      "\n",
      "\n",
      "Arvind Yadav\n",
      "noida , Uttar Pradesh\n",
      "May 25, 2019\n",
      "\n",
      "\n"
     ]
    }
   ],
   "source": [
    "print(doc_cv)"
   ]
  },
  {
   "cell_type": "code",
   "execution_count": 53,
   "metadata": {},
   "outputs": [],
   "source": [
    "doc_jd = open('C:/Users/avira/OneDrive/Desktop/jd1.txt', encoding = 'utf8' , errors = 'replace').read()"
   ]
  },
  {
   "cell_type": "code",
   "execution_count": 55,
   "metadata": {
    "scrolled": true
   },
   "outputs": [
    {
     "name": "stdout",
     "output_type": "stream",
     "text": [
      "Mention office hours, remote working possibilities, and everything else that you think makes your company interesting. }}\n",
      "Job Description\n",
      "We are looking for a strong mobile app developer who welcomes both engineering and maintenance tasks.\n",
      "You will be working with our candid and collaborative team, where your knowledge and advice about application architecture and the newest mobile technologies will be highly appreciated.\n",
      "You will be working with our candid and collaborative team, where your knowledge and advice about application architecture and the newest mobile technologies will be highly appreciated.\n",
      "You’ll also help ensure solid application performance and an excellent user experience.\n",
      "Responsibilities\n",
      "* Developing new features and user interfaces from wireframe models\n",
      "* Ensuring the best performance and user experience of the application\n",
      "* Fixing bugs and performance problems\n",
      "* Writing clean, readable, and testable code\n",
      "* Cooperating with back-end developers, designers, and the rest of the team to deliver well-architected and high-quality solutions\n",
      "* {{Add any other relevant responsibilities here}}\n",
      "Skills\n",
      "* Extensive knowledge about mobile app development.\n",
      "Responsibilities\n",
      "* Developing new features and user interfaces from wireframe models\n",
      "* Ensuring the best performance and user experience of the application\n",
      "* Fixing bugs and performance problems\n",
      "* Writing clean, readable, and testable code\n",
      "* Cooperating with back-end developers, designers, and the rest of the team to deliver well-architected and high-quality solutions\n",
      "* {{Add any other relevant responsibilities here}}\n",
      "Skills\n",
      "* Extensive knowledge about mobile app development.\n",
      "Responsibilities\n",
      "* Developing new features and user interfaces from wireframe models\n",
      "* Ensuring the best performance and user experience of the application\n",
      "* Fixing bugs and performance problems\n",
      "* Writing clean, readable, and testable code\n",
      "* Cooperating with back-end developers, designers, and the rest of the team to deliver well-architected and high-quality solutions\n",
      "* {{Add any other relevant responsibilities here}}\n",
      "Skills\n",
      "* Extensive knowledge about mobile app development.\n",
      "This includes the whole process, from the first line of code to publishing in the store(s)\n",
      "* Deep knowledge of {{ List here the mobile platforms on which the app runs, e.g., Android, iOS, etc. }}\n",
      "depending on the libraries you use to test }}\n",
      "* Familiarity with RESTful APIs and mobile libraries for networking, specifically {{ Retrofit, axios, Alamofire, etc. }}\n",
      "* Familiarity with the JSON format\n",
      "* Experience with profiling and debugging mobile applications\n",
      "* Strong knowledge of architectural patterns—MVP, MVC, MVVM, and Clean Architecture—and the ability to choose the best solution for the app\n",
      "* Familiarity with Git\n",
      "* Familiarity with push notifications\n",
      "* Understanding mobile app design guidelines on each platform and being aware of their differences\n",
      "* Proficiency in {{ Kotlin/Java/Swift/Objective-C/JavaScript/C#, whichever language you use in the app }}\n",
      "* {{ Make sure to mention any other frameworks, libraries, or other technologies or development patterns that are relevant to your project}}\n",
      "* {{ List any specific hardware or sensors, like GPS or Bluetooth, that the app will use }}\n",
      "* {{ List any integrations that will need to be done (Facebook, Firebase, etc.)\n",
      "* Familiarity with the JSON format\n",
      "* Experience with profiling and debugging mobile applications\n",
      "* Strong knowledge of architectural patterns—MVP, MVC, MVVM, and Clean Architecture—and the ability to choose the best solution for the app\n",
      "* Familiarity with Git\n",
      "* Familiarity with push notifications\n",
      "* Understanding mobile app design guidelines on each platform and being aware of their differences\n",
      "* Proficiency in {{ Kotlin/Java/Swift/Objective-C/JavaScript/C#, whichever language you use in the app }}\n",
      "* {{ Make sure to mention any other frameworks, libraries, or other technologies or development patterns that are relevant to your project}}\n",
      "* {{ List any specific hardware or sensors, like GPS or Bluetooth, that the app will use }}\n",
      "* {{ List any integrations that will need to be done (Facebook, Firebase, etc.)\n",
      "* Familiarity with the JSON format\n",
      "* Experience with profiling and debugging mobile applications\n",
      "* Strong knowledge of architectural patterns—MVP, MVC, MVVM, and Clean Architecture—and the ability to choose the best solution for the app\n",
      "* Familiarity with Git\n",
      "* Familiarity with push notifications\n",
      "* Understanding mobile app design guidelines on each platform and being aware of their differences\n",
      "* Proficiency in {{ Kotlin/Java/Swift/Objective-C/JavaScript/C#, whichever language you use in the app }}\n",
      "* {{ Make sure to mention any other frameworks, libraries, or other technologies or development patterns that are relevant to your project}}\n",
      "* {{ List any specific hardware or sensors, like GPS or Bluetooth, that the app will use }}\n",
      "* {{ List any integrations that will need to be done (Facebook, Firebase, etc.)\n",
      "* Familiarity with the JSON format\n",
      "* Experience with profiling and debugging mobile applications\n",
      "* Strong knowledge of architectural patterns—MVP, MVC, MVVM, and Clean Architecture—and the ability to choose the best solution for the app\n",
      "* Familiarity with Git\n",
      "* Familiarity with push notifications\n",
      "* Understanding mobile app design guidelines on each platform and being aware of their differences\n",
      "* Proficiency in {{ Kotlin/Java/Swift/Objective-C/JavaScript/C#, whichever language you use in the app }}\n",
      "* {{ Make sure to mention any other frameworks, libraries, or other technologies or development patterns that are relevant to your project}}\n",
      "* {{ List any specific hardware or sensors, like GPS or Bluetooth, that the app will use }}\n",
      "* {{ List any integrations that will need to be done (Facebook, Firebase, etc.)\n"
     ]
    },
    {
     "name": "stderr",
     "output_type": "stream",
     "text": [
      "C:\\Users\\avira\\anaconda3\\lib\\site-packages\\ipykernel_launcher.py:28: UserWarning: [W007] The model you're using has no word vectors loaded, so the result of the Doc.similarity method will be based on the tagger, parser and NER, which may not give useful similarity judgements. This may happen if you're using one of the small models, e.g. `en_core_web_sm`, which don't ship with word vectors and only use context-sensitive tensors. You can always add your own word vectors, or use one of the larger models instead if available.\n"
     ]
    },
    {
     "data": {
      "text/plain": [
       "92.27"
      ]
     },
     "execution_count": 55,
     "metadata": {},
     "output_type": "execute_result"
    }
   ],
   "source": [
    "get_similarity(doc_jd,doc_cv)"
   ]
  },
  {
   "cell_type": "code",
   "execution_count": null,
   "metadata": {},
   "outputs": [],
   "source": []
  }
 ],
 "metadata": {
  "kernelspec": {
   "display_name": "Python 3",
   "language": "python",
   "name": "python3"
  },
  "language_info": {
   "codemirror_mode": {
    "name": "ipython",
    "version": 3
   },
   "file_extension": ".py",
   "mimetype": "text/x-python",
   "name": "python",
   "nbconvert_exporter": "python",
   "pygments_lexer": "ipython3",
   "version": "3.7.6"
  }
 },
 "nbformat": 4,
 "nbformat_minor": 4
}
