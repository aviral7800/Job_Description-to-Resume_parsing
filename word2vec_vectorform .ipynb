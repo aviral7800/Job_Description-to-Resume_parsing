{
 "cells": [
  {
   "cell_type": "code",
   "execution_count": 4,
   "metadata": {},
   "outputs": [
    {
     "name": "stdout",
     "output_type": "stream",
     "text": [
      "Requirement already satisfied: nltk in c:\\users\\avira\\anaconda3\\lib\\site-packages (3.4.5)\n",
      "Requirement already satisfied: six in c:\\users\\avira\\anaconda3\\lib\\site-packages (from nltk) (1.14.0)\n",
      "Note: you may need to restart the kernel to use updated packages.\n"
     ]
    }
   ],
   "source": [
    "pip install nltk"
   ]
  },
  {
   "cell_type": "code",
   "execution_count": 5,
   "metadata": {},
   "outputs": [
    {
     "name": "stdout",
     "output_type": "stream",
     "text": [
      "Requirement already satisfied: gensim in c:\\users\\avira\\anaconda3\\lib\\site-packages (3.8.3)\n",
      "Requirement already satisfied: Cython==0.29.14 in c:\\users\\avira\\anaconda3\\lib\\site-packages (from gensim) (0.29.14)\n",
      "Requirement already satisfied: smart-open>=1.8.1 in c:\\users\\avira\\anaconda3\\lib\\site-packages (from gensim) (2.1.0)\n",
      "Requirement already satisfied: scipy>=0.18.1 in c:\\users\\avira\\anaconda3\\lib\\site-packages (from gensim) (1.4.1)\n",
      "Requirement already satisfied: six>=1.5.0 in c:\\users\\avira\\anaconda3\\lib\\site-packages (from gensim) (1.14.0)\n",
      "Requirement already satisfied: numpy>=1.11.3 in c:\\users\\avira\\anaconda3\\lib\\site-packages (from gensim) (1.18.1)\n",
      "Requirement already satisfied: boto in c:\\users\\avira\\anaconda3\\lib\\site-packages (from smart-open>=1.8.1->gensim) (2.49.0)\n",
      "Requirement already satisfied: boto3 in c:\\users\\avira\\anaconda3\\lib\\site-packages (from smart-open>=1.8.1->gensim) (1.14.16)\n",
      "Requirement already satisfied: requests in c:\\users\\avira\\anaconda3\\lib\\site-packages (from smart-open>=1.8.1->gensim) (2.22.0)\n",
      "Requirement already satisfied: jmespath<1.0.0,>=0.7.1 in c:\\users\\avira\\anaconda3\\lib\\site-packages (from boto3->smart-open>=1.8.1->gensim) (0.10.0)\n",
      "Requirement already satisfied: s3transfer<0.4.0,>=0.3.0 in c:\\users\\avira\\anaconda3\\lib\\site-packages (from boto3->smart-open>=1.8.1->gensim) (0.3.3)\n",
      "Requirement already satisfied: botocore<1.18.0,>=1.17.16 in c:\\users\\avira\\anaconda3\\lib\\site-packages (from boto3->smart-open>=1.8.1->gensim) (1.17.16)\n",
      "Requirement already satisfied: certifi>=2017.4.17 in c:\\users\\avira\\anaconda3\\lib\\site-packages (from requests->smart-open>=1.8.1->gensim) (2019.11.28)\n",
      "Requirement already satisfied: urllib3!=1.25.0,!=1.25.1,<1.26,>=1.21.1 in c:\\users\\avira\\anaconda3\\lib\\site-packages (from requests->smart-open>=1.8.1->gensim) (1.25.8)\n",
      "Requirement already satisfied: idna<2.9,>=2.5 in c:\\users\\avira\\anaconda3\\lib\\site-packages (from requests->smart-open>=1.8.1->gensim) (2.8)\n",
      "Requirement already satisfied: chardet<3.1.0,>=3.0.2 in c:\\users\\avira\\anaconda3\\lib\\site-packages (from requests->smart-open>=1.8.1->gensim) (3.0.4)\n",
      "Requirement already satisfied: docutils<0.16,>=0.10 in c:\\users\\avira\\anaconda3\\lib\\site-packages (from botocore<1.18.0,>=1.17.16->boto3->smart-open>=1.8.1->gensim) (0.15.2)\n",
      "Requirement already satisfied: python-dateutil<3.0.0,>=2.1 in c:\\users\\avira\\anaconda3\\lib\\site-packages (from botocore<1.18.0,>=1.17.16->boto3->smart-open>=1.8.1->gensim) (2.8.1)\n",
      "Note: you may need to restart the kernel to use updated packages.\n"
     ]
    }
   ],
   "source": [
    "pip install gensim"
   ]
  },
  {
   "cell_type": "code",
   "execution_count": 6,
   "metadata": {},
   "outputs": [
    {
     "name": "stdout",
     "output_type": "stream",
     "text": [
      "Requirement already satisfied: docx2txt in c:\\users\\avira\\anaconda3\\lib\\site-packages (0.8)\n",
      "Note: you may need to restart the kernel to use updated packages.\n"
     ]
    }
   ],
   "source": [
    "pip install docx2txt"
   ]
  },
  {
   "cell_type": "code",
   "execution_count": 7,
   "metadata": {},
   "outputs": [],
   "source": [
    "import nltk"
   ]
  },
  {
   "cell_type": "code",
   "execution_count": 8,
   "metadata": {},
   "outputs": [],
   "source": [
    "from gensim.models import Word2Vec"
   ]
  },
  {
   "cell_type": "code",
   "execution_count": 9,
   "metadata": {},
   "outputs": [],
   "source": [
    "from nltk.corpus import stopwords"
   ]
  },
  {
   "cell_type": "code",
   "execution_count": 10,
   "metadata": {},
   "outputs": [],
   "source": [
    "import re"
   ]
  },
  {
   "cell_type": "code",
   "execution_count": 11,
   "metadata": {},
   "outputs": [],
   "source": [
    "import docx2txt"
   ]
  },
  {
   "cell_type": "code",
   "execution_count": 12,
   "metadata": {},
   "outputs": [],
   "source": [
    "resume = docx2txt.process(\"C:/Users/avira/OneDrive/Documents/resume_ar.docx\")"
   ]
  },
  {
   "cell_type": "code",
   "execution_count": 13,
   "metadata": {},
   "outputs": [],
   "source": [
    "from nltk.corpus import stopwords \n",
    "from nltk.tokenize import word_tokenize "
   ]
  },
  {
   "cell_type": "code",
   "execution_count": 14,
   "metadata": {},
   "outputs": [],
   "source": [
    "text = re.sub(r'\\s+',' ',resume)\n",
    "text = text.lower()\n",
    "text = re.sub(r'\\d',' ',text)\n",
    "text = re.sub(r'\\s+',' ',text)"
   ]
  },
  {
   "cell_type": "code",
   "execution_count": 15,
   "metadata": {},
   "outputs": [],
   "source": [
    "job_desc = docx2txt.process(\"C:/Users/avira/OneDrive/Documents/Company Introduction.docx\")"
   ]
  },
  {
   "cell_type": "code",
   "execution_count": 16,
   "metadata": {},
   "outputs": [],
   "source": [
    "text1 = re.sub(r'\\s+',' ',job_desc)\n",
    "text1 = text.lower()\n",
    "text1 = re.sub(r'\\d',' ',text1)\n",
    "text1 = re.sub(r'\\s+',' ',text1)"
   ]
  },
  {
   "cell_type": "code",
   "execution_count": 17,
   "metadata": {},
   "outputs": [],
   "source": [
    "sentences = nltk.sent_tokenize(text)"
   ]
  },
  {
   "cell_type": "code",
   "execution_count": 18,
   "metadata": {},
   "outputs": [],
   "source": [
    "sentences = [nltk.word_tokenize(sentence) for sentence in sentences]"
   ]
  },
  {
   "cell_type": "code",
   "execution_count": 19,
   "metadata": {},
   "outputs": [],
   "source": [
    "sentences1 = nltk.sent_tokenize(text1)"
   ]
  },
  {
   "cell_type": "code",
   "execution_count": 20,
   "metadata": {},
   "outputs": [],
   "source": [
    "sentences1= [nltk.word_tokenize(sentence) for sentence in sentences1]"
   ]
  },
  {
   "cell_type": "code",
   "execution_count": 21,
   "metadata": {},
   "outputs": [],
   "source": [
    "sw = stopwords.words('english')"
   ]
  },
  {
   "cell_type": "code",
   "execution_count": 22,
   "metadata": {},
   "outputs": [],
   "source": [
    "sw = stopwords.words('english')  \n",
    "l1 =[];l2 =[] "
   ]
  },
  {
   "cell_type": "code",
   "execution_count": 23,
   "metadata": {},
   "outputs": [],
   "source": [
    "for i in range(len(sentences)):\n",
    "    sentences[i] = [word for word in sentences[i] if word not in stopwords.words('english')]"
   ]
  },
  {
   "cell_type": "code",
   "execution_count": 24,
   "metadata": {},
   "outputs": [],
   "source": [
    "for i in range(len(sentences1)):\n",
    "    sentences1[i] = [word for word in sentences1[i] if word not in stopwords.words('english')]"
   ]
  },
  {
   "cell_type": "code",
   "execution_count": 26,
   "metadata": {},
   "outputs": [],
   "source": [
    "import spacy"
   ]
  },
  {
   "cell_type": "code",
   "execution_count": 27,
   "metadata": {},
   "outputs": [],
   "source": [
    "resume = (\"C:/Users/avira/OneDrive/Documents/resume_ar.docx\")"
   ]
  },
  {
   "cell_type": "code",
   "execution_count": 28,
   "metadata": {},
   "outputs": [
    {
     "name": "stdout",
     "output_type": "stream",
     "text": [
      "C:/Users/avira/OneDrive/Documents/resume_ar.docx\n"
     ]
    }
   ],
   "source": [
    "print(resume)"
   ]
  },
  {
   "cell_type": "code",
   "execution_count": 29,
   "metadata": {},
   "outputs": [],
   "source": [
    "resume = docx2txt.process(\"C:/Users/avira/OneDrive/Documents/resume_ar.docx\")"
   ]
  },
  {
   "cell_type": "code",
   "execution_count": 30,
   "metadata": {},
   "outputs": [
    {
     "name": "stdout",
     "output_type": "stream",
     "text": [
      "Arvind Yadav\n",
      "\n",
      "sec-44\n",
      "\n",
      "Noida\n",
      "\n",
      "noida - 201301, Uttar Pradesh\n",
      "\n",
      "Telephone +91.01234567890\n",
      "\n",
      "abc@email.com\n",
      "\n",
      "About Me\n",
      "\n",
      "Android App. Developer\n",
      "\n",
      "Extensive experience of XX years in conceptualizing app solutions with the latest technology, design theory, and a large dose of creativity; knowledge of the open-source Android components and the libraries available for common tasks\n",
      "\n",
      "Strong knowledge of Android SDK, different versions of Android, and how to deal with different screen sizes; knowledge of Android UI design principles, patterns, and best practices; knowledge of the open-source Android ecosystem and the libraries available for common tasks\n",
      "\n",
      "Working knowledge of the general mobile landscape, architectures, trends, and emerging technologies; solid understanding of the full mobile development life cycle; critical thinker and problem-solving skills; Hands-on experience in the full life cycle of Android application development\n",
      "\n",
      "Highly proficient in object-oriented methodologies, design patterns, data structures, algorithms and quality coding skills, excellent debugging skills\n",
      "\n",
      "Education\n",
      "\n",
      "Master of Business Administration, management\n",
      "\n",
      "ABC School\n",
      "\n",
      "CBSE\n",
      "\n",
      "noida, Uttar Pradesh\n",
      "\n",
      "Completed, March 2001\n",
      "\n",
      "Marks 70 %\n",
      "\n",
      "Division I\n",
      "\n",
      "Work Experience\n",
      "\n",
      "March 2003 - May 2006\n",
      "\n",
      "Developer - Mobile App - Android\n",
      "\n",
      "abc pvt ltd\n",
      "\n",
      "noida, Uttar Pradesh\n",
      "\n",
      "Key Result Areas:\n",
      "\n",
      "Perform upgrades and maintenance while modifying existing software to improve performance, correct errors and allow adaptation to new hardware\n",
      "\n",
      "Recommend software upgrades for clients’ programs and systems if necessary, and analyze software requirements and user needs to determine whether the system design is feasible and can be completed within time and budget constraints\n",
      "\n",
      "Collaborate with engineers, programmers, systems analysts and others on projects, and gather information on project capabilities and limitations, interface and performance requirements to create optimum software\n",
      "\n",
      "Design, develop and modify software systems, using mathematical models and scientific analysis to predict and measure possible outcomes\n",
      "\n",
      "Store, retrieve and manipulate data to understand system capabilities and requirements\n",
      "\n",
      "Direct software system testing, validation procedures, application and system documentation and programming to ensure normal program functioning\n",
      "\n",
      "Manage the work of technologists, programmers, technicians and other related team members, and provide instruction on writing software code as needed\n",
      "\n",
      "Coordinate software installation and monitor equipment to confirm specifications have been met\n",
      "\n",
      "Key Highlights:\n",
      "\n",
      "Any existing systems/ processes streamlined???? Results obtained???? Major assignments handled????\n",
      "\n",
      "Any unique initiative taken to improve customer satisfaction level???? Any major accounts/clients handled???\n",
      "\n",
      "Awards/appreciation letters received???? Other relevant achievements????\n",
      "\n",
      "Training and Certifications\n",
      "\n",
      "Arvind Yadav, abc institute, 2007\n",
      "\n",
      "Computer Proficiency\n",
      "\n",
      "Operating Systems\n",
      "\n",
      "window\n",
      "\n",
      "Software\n",
      "\n",
      "Todo.vu\n",
      "\n",
      "Languages\n",
      "\n",
      "Hindi\n",
      "\n",
      "English\n",
      "\n",
      "Personal Interests\n",
      "\n",
      "Exhibiting a desire to experience new cultures and environments—especially if your role would involve working with foreign colleagues, partners or clients—can really help your resume shine.\n",
      "\n",
      "Personal Details\n",
      "\n",
      "Father’s Name:Mr. Arvind Yadav\n",
      "\n",
      "Birthday:February 06, 1994\n",
      "\n",
      "Gender:Male\n",
      "\n",
      "Marital Status:Single\n",
      "\n",
      "Nationality:India\n",
      "\n",
      "Declaration\n",
      "\n",
      "\n",
      "\n",
      "\n",
      "\n",
      "Arvind Yadav\n",
      "\n",
      "noida , Uttar Pradesh\n",
      "\n",
      "May 25, 2019\n"
     ]
    }
   ],
   "source": [
    "print(resume)"
   ]
  },
  {
   "cell_type": "code",
   "execution_count": 31,
   "metadata": {},
   "outputs": [],
   "source": [
    "text = re.sub(r'\\s+',' ',resume)"
   ]
  },
  {
   "cell_type": "code",
   "execution_count": 32,
   "metadata": {},
   "outputs": [
    {
     "name": "stdout",
     "output_type": "stream",
     "text": [
      "Arvind Yadav sec-44 Noida noida - 201301, Uttar Pradesh Telephone +91.01234567890 abc@email.com About Me Android App. Developer Extensive experience of XX years in conceptualizing app solutions with the latest technology, design theory, and a large dose of creativity; knowledge of the open-source Android components and the libraries available for common tasks Strong knowledge of Android SDK, different versions of Android, and how to deal with different screen sizes; knowledge of Android UI design principles, patterns, and best practices; knowledge of the open-source Android ecosystem and the libraries available for common tasks Working knowledge of the general mobile landscape, architectures, trends, and emerging technologies; solid understanding of the full mobile development life cycle; critical thinker and problem-solving skills; Hands-on experience in the full life cycle of Android application development Highly proficient in object-oriented methodologies, design patterns, data structures, algorithms and quality coding skills, excellent debugging skills Education Master of Business Administration, management ABC School CBSE noida, Uttar Pradesh Completed, March 2001 Marks 70 % Division I Work Experience March 2003 - May 2006 Developer - Mobile App - Android abc pvt ltd noida, Uttar Pradesh Key Result Areas: Perform upgrades and maintenance while modifying existing software to improve performance, correct errors and allow adaptation to new hardware Recommend software upgrades for clients’ programs and systems if necessary, and analyze software requirements and user needs to determine whether the system design is feasible and can be completed within time and budget constraints Collaborate with engineers, programmers, systems analysts and others on projects, and gather information on project capabilities and limitations, interface and performance requirements to create optimum software Design, develop and modify software systems, using mathematical models and scientific analysis to predict and measure possible outcomes Store, retrieve and manipulate data to understand system capabilities and requirements Direct software system testing, validation procedures, application and system documentation and programming to ensure normal program functioning Manage the work of technologists, programmers, technicians and other related team members, and provide instruction on writing software code as needed Coordinate software installation and monitor equipment to confirm specifications have been met Key Highlights: Any existing systems/ processes streamlined???? Results obtained???? Major assignments handled???? Any unique initiative taken to improve customer satisfaction level???? Any major accounts/clients handled??? Awards/appreciation letters received???? Other relevant achievements???? Training and Certifications Arvind Yadav, abc institute, 2007 Computer Proficiency Operating Systems window Software Todo.vu Languages Hindi English Personal Interests Exhibiting a desire to experience new cultures and environments—especially if your role would involve working with foreign colleagues, partners or clients—can really help your resume shine. Personal Details Father’s Name:Mr. Arvind Yadav Birthday:February 06, 1994 Gender:Male Marital Status:Single Nationality:India Declaration Arvind Yadav noida , Uttar Pradesh May 25, 2019\n"
     ]
    }
   ],
   "source": [
    "print(text)"
   ]
  },
  {
   "cell_type": "code",
   "execution_count": 33,
   "metadata": {},
   "outputs": [],
   "source": [
    "text = text.lower()"
   ]
  },
  {
   "cell_type": "code",
   "execution_count": 34,
   "metadata": {},
   "outputs": [],
   "source": [
    "sentences = nltk.sent_tokenize(text)"
   ]
  },
  {
   "cell_type": "code",
   "execution_count": 35,
   "metadata": {},
   "outputs": [
    {
     "name": "stdout",
     "output_type": "stream",
     "text": [
      "['arvind yadav sec-44 noida noida - 201301, uttar pradesh telephone +91.01234567890 abc@email.com about me android app.', 'developer extensive experience of xx years in conceptualizing app solutions with the latest technology, design theory, and a large dose of creativity; knowledge of the open-source android components and the libraries available for common tasks strong knowledge of android sdk, different versions of android, and how to deal with different screen sizes; knowledge of android ui design principles, patterns, and best practices; knowledge of the open-source android ecosystem and the libraries available for common tasks working knowledge of the general mobile landscape, architectures, trends, and emerging technologies; solid understanding of the full mobile development life cycle; critical thinker and problem-solving skills; hands-on experience in the full life cycle of android application development highly proficient in object-oriented methodologies, design patterns, data structures, algorithms and quality coding skills, excellent debugging skills education master of business administration, management abc school cbse noida, uttar pradesh completed, march 2001 marks 70 % division i work experience march 2003 - may 2006 developer - mobile app - android abc pvt ltd noida, uttar pradesh key result areas: perform upgrades and maintenance while modifying existing software to improve performance, correct errors and allow adaptation to new hardware recommend software upgrades for clients’ programs and systems if necessary, and analyze software requirements and user needs to determine whether the system design is feasible and can be completed within time and budget constraints collaborate with engineers, programmers, systems analysts and others on projects, and gather information on project capabilities and limitations, interface and performance requirements to create optimum software design, develop and modify software systems, using mathematical models and scientific analysis to predict and measure possible outcomes store, retrieve and manipulate data to understand system capabilities and requirements direct software system testing, validation procedures, application and system documentation and programming to ensure normal program functioning manage the work of technologists, programmers, technicians and other related team members, and provide instruction on writing software code as needed coordinate software installation and monitor equipment to confirm specifications have been met key highlights: any existing systems/ processes streamlined????', 'results obtained????', 'major assignments handled????', 'any unique initiative taken to improve customer satisfaction level????', 'any major accounts/clients handled???', 'awards/appreciation letters received????', 'other relevant achievements????', 'training and certifications arvind yadav, abc institute, 2007 computer proficiency operating systems window software todo.vu languages hindi english personal interests exhibiting a desire to experience new cultures and environments—especially if your role would involve working with foreign colleagues, partners or clients—can really help your resume shine.', 'personal details father’s name:mr. arvind yadav birthday:february 06, 1994 gender:male marital status:single nationality:india declaration arvind yadav noida , uttar pradesh may 25, 2019']\n"
     ]
    }
   ],
   "source": [
    "print(sentences)"
   ]
  },
  {
   "cell_type": "code",
   "execution_count": 36,
   "metadata": {},
   "outputs": [],
   "source": [
    "sentences = [nltk.word_tokenize(sentence) for sentence in sentences]"
   ]
  },
  {
   "cell_type": "code",
   "execution_count": 37,
   "metadata": {},
   "outputs": [
    {
     "name": "stdout",
     "output_type": "stream",
     "text": [
      "[['arvind', 'yadav', 'sec-44', 'noida', 'noida', '-', '201301', ',', 'uttar', 'pradesh', 'telephone', '+91.01234567890', 'abc', '@', 'email.com', 'about', 'me', 'android', 'app', '.'], ['developer', 'extensive', 'experience', 'of', 'xx', 'years', 'in', 'conceptualizing', 'app', 'solutions', 'with', 'the', 'latest', 'technology', ',', 'design', 'theory', ',', 'and', 'a', 'large', 'dose', 'of', 'creativity', ';', 'knowledge', 'of', 'the', 'open-source', 'android', 'components', 'and', 'the', 'libraries', 'available', 'for', 'common', 'tasks', 'strong', 'knowledge', 'of', 'android', 'sdk', ',', 'different', 'versions', 'of', 'android', ',', 'and', 'how', 'to', 'deal', 'with', 'different', 'screen', 'sizes', ';', 'knowledge', 'of', 'android', 'ui', 'design', 'principles', ',', 'patterns', ',', 'and', 'best', 'practices', ';', 'knowledge', 'of', 'the', 'open-source', 'android', 'ecosystem', 'and', 'the', 'libraries', 'available', 'for', 'common', 'tasks', 'working', 'knowledge', 'of', 'the', 'general', 'mobile', 'landscape', ',', 'architectures', ',', 'trends', ',', 'and', 'emerging', 'technologies', ';', 'solid', 'understanding', 'of', 'the', 'full', 'mobile', 'development', 'life', 'cycle', ';', 'critical', 'thinker', 'and', 'problem-solving', 'skills', ';', 'hands-on', 'experience', 'in', 'the', 'full', 'life', 'cycle', 'of', 'android', 'application', 'development', 'highly', 'proficient', 'in', 'object-oriented', 'methodologies', ',', 'design', 'patterns', ',', 'data', 'structures', ',', 'algorithms', 'and', 'quality', 'coding', 'skills', ',', 'excellent', 'debugging', 'skills', 'education', 'master', 'of', 'business', 'administration', ',', 'management', 'abc', 'school', 'cbse', 'noida', ',', 'uttar', 'pradesh', 'completed', ',', 'march', '2001', 'marks', '70', '%', 'division', 'i', 'work', 'experience', 'march', '2003', '-', 'may', '2006', 'developer', '-', 'mobile', 'app', '-', 'android', 'abc', 'pvt', 'ltd', 'noida', ',', 'uttar', 'pradesh', 'key', 'result', 'areas', ':', 'perform', 'upgrades', 'and', 'maintenance', 'while', 'modifying', 'existing', 'software', 'to', 'improve', 'performance', ',', 'correct', 'errors', 'and', 'allow', 'adaptation', 'to', 'new', 'hardware', 'recommend', 'software', 'upgrades', 'for', 'clients', '’', 'programs', 'and', 'systems', 'if', 'necessary', ',', 'and', 'analyze', 'software', 'requirements', 'and', 'user', 'needs', 'to', 'determine', 'whether', 'the', 'system', 'design', 'is', 'feasible', 'and', 'can', 'be', 'completed', 'within', 'time', 'and', 'budget', 'constraints', 'collaborate', 'with', 'engineers', ',', 'programmers', ',', 'systems', 'analysts', 'and', 'others', 'on', 'projects', ',', 'and', 'gather', 'information', 'on', 'project', 'capabilities', 'and', 'limitations', ',', 'interface', 'and', 'performance', 'requirements', 'to', 'create', 'optimum', 'software', 'design', ',', 'develop', 'and', 'modify', 'software', 'systems', ',', 'using', 'mathematical', 'models', 'and', 'scientific', 'analysis', 'to', 'predict', 'and', 'measure', 'possible', 'outcomes', 'store', ',', 'retrieve', 'and', 'manipulate', 'data', 'to', 'understand', 'system', 'capabilities', 'and', 'requirements', 'direct', 'software', 'system', 'testing', ',', 'validation', 'procedures', ',', 'application', 'and', 'system', 'documentation', 'and', 'programming', 'to', 'ensure', 'normal', 'program', 'functioning', 'manage', 'the', 'work', 'of', 'technologists', ',', 'programmers', ',', 'technicians', 'and', 'other', 'related', 'team', 'members', ',', 'and', 'provide', 'instruction', 'on', 'writing', 'software', 'code', 'as', 'needed', 'coordinate', 'software', 'installation', 'and', 'monitor', 'equipment', 'to', 'confirm', 'specifications', 'have', 'been', 'met', 'key', 'highlights', ':', 'any', 'existing', 'systems/', 'processes', 'streamlined', '?', '?', '?', '?'], ['results', 'obtained', '?', '?', '?', '?'], ['major', 'assignments', 'handled', '?', '?', '?', '?'], ['any', 'unique', 'initiative', 'taken', 'to', 'improve', 'customer', 'satisfaction', 'level', '?', '?', '?', '?'], ['any', 'major', 'accounts/clients', 'handled', '?', '?', '?'], ['awards/appreciation', 'letters', 'received', '?', '?', '?', '?'], ['other', 'relevant', 'achievements', '?', '?', '?', '?'], ['training', 'and', 'certifications', 'arvind', 'yadav', ',', 'abc', 'institute', ',', '2007', 'computer', 'proficiency', 'operating', 'systems', 'window', 'software', 'todo.vu', 'languages', 'hindi', 'english', 'personal', 'interests', 'exhibiting', 'a', 'desire', 'to', 'experience', 'new', 'cultures', 'and', 'environments—especially', 'if', 'your', 'role', 'would', 'involve', 'working', 'with', 'foreign', 'colleagues', ',', 'partners', 'or', 'clients—can', 'really', 'help', 'your', 'resume', 'shine', '.'], ['personal', 'details', 'father', '’', 's', 'name', ':', 'mr.', 'arvind', 'yadav', 'birthday', ':', 'february', '06', ',', '1994', 'gender', ':', 'male', 'marital', 'status', ':', 'single', 'nationality', ':', 'india', 'declaration', 'arvind', 'yadav', 'noida', ',', 'uttar', 'pradesh', 'may', '25', ',', '2019']]\n"
     ]
    }
   ],
   "source": [
    "print(sentences)"
   ]
  },
  {
   "cell_type": "code",
   "execution_count": 38,
   "metadata": {},
   "outputs": [],
   "source": [
    "for i in range(len(sentences)):\n",
    "    sentences[i] = [word for word in sentences[i] if word not in stopwords.words('english')]"
   ]
  },
  {
   "cell_type": "code",
   "execution_count": 39,
   "metadata": {
    "scrolled": true
   },
   "outputs": [
    {
     "name": "stdout",
     "output_type": "stream",
     "text": [
      "[['arvind', 'yadav', 'sec-44', 'noida', 'noida', '-', '201301', ',', 'uttar', 'pradesh', 'telephone', '+91.01234567890', 'abc', '@', 'email.com', 'android', 'app', '.'], ['developer', 'extensive', 'experience', 'xx', 'years', 'conceptualizing', 'app', 'solutions', 'latest', 'technology', ',', 'design', 'theory', ',', 'large', 'dose', 'creativity', ';', 'knowledge', 'open-source', 'android', 'components', 'libraries', 'available', 'common', 'tasks', 'strong', 'knowledge', 'android', 'sdk', ',', 'different', 'versions', 'android', ',', 'deal', 'different', 'screen', 'sizes', ';', 'knowledge', 'android', 'ui', 'design', 'principles', ',', 'patterns', ',', 'best', 'practices', ';', 'knowledge', 'open-source', 'android', 'ecosystem', 'libraries', 'available', 'common', 'tasks', 'working', 'knowledge', 'general', 'mobile', 'landscape', ',', 'architectures', ',', 'trends', ',', 'emerging', 'technologies', ';', 'solid', 'understanding', 'full', 'mobile', 'development', 'life', 'cycle', ';', 'critical', 'thinker', 'problem-solving', 'skills', ';', 'hands-on', 'experience', 'full', 'life', 'cycle', 'android', 'application', 'development', 'highly', 'proficient', 'object-oriented', 'methodologies', ',', 'design', 'patterns', ',', 'data', 'structures', ',', 'algorithms', 'quality', 'coding', 'skills', ',', 'excellent', 'debugging', 'skills', 'education', 'master', 'business', 'administration', ',', 'management', 'abc', 'school', 'cbse', 'noida', ',', 'uttar', 'pradesh', 'completed', ',', 'march', '2001', 'marks', '70', '%', 'division', 'work', 'experience', 'march', '2003', '-', 'may', '2006', 'developer', '-', 'mobile', 'app', '-', 'android', 'abc', 'pvt', 'ltd', 'noida', ',', 'uttar', 'pradesh', 'key', 'result', 'areas', ':', 'perform', 'upgrades', 'maintenance', 'modifying', 'existing', 'software', 'improve', 'performance', ',', 'correct', 'errors', 'allow', 'adaptation', 'new', 'hardware', 'recommend', 'software', 'upgrades', 'clients', '’', 'programs', 'systems', 'necessary', ',', 'analyze', 'software', 'requirements', 'user', 'needs', 'determine', 'whether', 'system', 'design', 'feasible', 'completed', 'within', 'time', 'budget', 'constraints', 'collaborate', 'engineers', ',', 'programmers', ',', 'systems', 'analysts', 'others', 'projects', ',', 'gather', 'information', 'project', 'capabilities', 'limitations', ',', 'interface', 'performance', 'requirements', 'create', 'optimum', 'software', 'design', ',', 'develop', 'modify', 'software', 'systems', ',', 'using', 'mathematical', 'models', 'scientific', 'analysis', 'predict', 'measure', 'possible', 'outcomes', 'store', ',', 'retrieve', 'manipulate', 'data', 'understand', 'system', 'capabilities', 'requirements', 'direct', 'software', 'system', 'testing', ',', 'validation', 'procedures', ',', 'application', 'system', 'documentation', 'programming', 'ensure', 'normal', 'program', 'functioning', 'manage', 'work', 'technologists', ',', 'programmers', ',', 'technicians', 'related', 'team', 'members', ',', 'provide', 'instruction', 'writing', 'software', 'code', 'needed', 'coordinate', 'software', 'installation', 'monitor', 'equipment', 'confirm', 'specifications', 'met', 'key', 'highlights', ':', 'existing', 'systems/', 'processes', 'streamlined', '?', '?', '?', '?'], ['results', 'obtained', '?', '?', '?', '?'], ['major', 'assignments', 'handled', '?', '?', '?', '?'], ['unique', 'initiative', 'taken', 'improve', 'customer', 'satisfaction', 'level', '?', '?', '?', '?'], ['major', 'accounts/clients', 'handled', '?', '?', '?'], ['awards/appreciation', 'letters', 'received', '?', '?', '?', '?'], ['relevant', 'achievements', '?', '?', '?', '?'], ['training', 'certifications', 'arvind', 'yadav', ',', 'abc', 'institute', ',', '2007', 'computer', 'proficiency', 'operating', 'systems', 'window', 'software', 'todo.vu', 'languages', 'hindi', 'english', 'personal', 'interests', 'exhibiting', 'desire', 'experience', 'new', 'cultures', 'environments—especially', 'role', 'would', 'involve', 'working', 'foreign', 'colleagues', ',', 'partners', 'clients—can', 'really', 'help', 'resume', 'shine', '.'], ['personal', 'details', 'father', '’', 'name', ':', 'mr.', 'arvind', 'yadav', 'birthday', ':', 'february', '06', ',', '1994', 'gender', ':', 'male', 'marital', 'status', ':', 'single', 'nationality', ':', 'india', 'declaration', 'arvind', 'yadav', 'noida', ',', 'uttar', 'pradesh', 'may', '25', ',', '2019']]\n"
     ]
    }
   ],
   "source": [
    "print(sentences)"
   ]
  },
  {
   "cell_type": "code",
   "execution_count": 40,
   "metadata": {},
   "outputs": [],
   "source": [
    "model = Word2Vec(sentences, min_count=1)"
   ]
  },
  {
   "cell_type": "code",
   "execution_count": 41,
   "metadata": {},
   "outputs": [
    {
     "name": "stdout",
     "output_type": "stream",
     "text": [
      "Word2Vec(vocab=265, size=100, alpha=0.025)\n"
     ]
    }
   ],
   "source": [
    "print(model)"
   ]
  },
  {
   "cell_type": "code",
   "execution_count": 42,
   "metadata": {},
   "outputs": [],
   "source": [
    "words = model.wv.vocab"
   ]
  },
  {
   "cell_type": "code",
   "execution_count": 43,
   "metadata": {},
   "outputs": [
    {
     "name": "stdout",
     "output_type": "stream",
     "text": [
      "{'arvind': <gensim.models.keyedvectors.Vocab object at 0x00000112F46EDC08>, 'yadav': <gensim.models.keyedvectors.Vocab object at 0x00000112F470BF88>, 'sec-44': <gensim.models.keyedvectors.Vocab object at 0x00000112F470B508>, 'noida': <gensim.models.keyedvectors.Vocab object at 0x00000112F470B208>, '-': <gensim.models.keyedvectors.Vocab object at 0x00000112F470B588>, '201301': <gensim.models.keyedvectors.Vocab object at 0x00000112F470B388>, ',': <gensim.models.keyedvectors.Vocab object at 0x00000112F3F00D08>, 'uttar': <gensim.models.keyedvectors.Vocab object at 0x00000112F3F00EC8>, 'pradesh': <gensim.models.keyedvectors.Vocab object at 0x00000112F470BF48>, 'telephone': <gensim.models.keyedvectors.Vocab object at 0x00000112F470B448>, '+91.01234567890': <gensim.models.keyedvectors.Vocab object at 0x00000112F3F00E48>, 'abc': <gensim.models.keyedvectors.Vocab object at 0x00000112F3F00A48>, '@': <gensim.models.keyedvectors.Vocab object at 0x00000112F3F00788>, 'email.com': <gensim.models.keyedvectors.Vocab object at 0x00000112F3F00088>, 'android': <gensim.models.keyedvectors.Vocab object at 0x00000112F3F00208>, 'app': <gensim.models.keyedvectors.Vocab object at 0x00000112F3F008C8>, '.': <gensim.models.keyedvectors.Vocab object at 0x00000112F3F002C8>, 'developer': <gensim.models.keyedvectors.Vocab object at 0x00000112F3F00548>, 'extensive': <gensim.models.keyedvectors.Vocab object at 0x00000112F3F00508>, 'experience': <gensim.models.keyedvectors.Vocab object at 0x00000112F3F00988>, 'xx': <gensim.models.keyedvectors.Vocab object at 0x00000112F3F003C8>, 'years': <gensim.models.keyedvectors.Vocab object at 0x00000112F3F00948>, 'conceptualizing': <gensim.models.keyedvectors.Vocab object at 0x00000112F3F00408>, 'solutions': <gensim.models.keyedvectors.Vocab object at 0x00000112F3F009C8>, 'latest': <gensim.models.keyedvectors.Vocab object at 0x00000112F3F00648>, 'technology': <gensim.models.keyedvectors.Vocab object at 0x00000112F3F00B88>, 'design': <gensim.models.keyedvectors.Vocab object at 0x00000112F3F015C8>, 'theory': <gensim.models.keyedvectors.Vocab object at 0x00000112F3F017C8>, 'large': <gensim.models.keyedvectors.Vocab object at 0x00000112F3F01B88>, 'dose': <gensim.models.keyedvectors.Vocab object at 0x00000112F3F01308>, 'creativity': <gensim.models.keyedvectors.Vocab object at 0x00000112F3F01388>, ';': <gensim.models.keyedvectors.Vocab object at 0x00000112F3F01D48>, 'knowledge': <gensim.models.keyedvectors.Vocab object at 0x00000112F3F01F48>, 'open-source': <gensim.models.keyedvectors.Vocab object at 0x00000112F3F01808>, 'components': <gensim.models.keyedvectors.Vocab object at 0x00000112F3F01DC8>, 'libraries': <gensim.models.keyedvectors.Vocab object at 0x00000112F3F01048>, 'available': <gensim.models.keyedvectors.Vocab object at 0x00000112F3F01188>, 'common': <gensim.models.keyedvectors.Vocab object at 0x00000112F3F01088>, 'tasks': <gensim.models.keyedvectors.Vocab object at 0x00000112F3F023C8>, 'strong': <gensim.models.keyedvectors.Vocab object at 0x00000112F3F02708>, 'sdk': <gensim.models.keyedvectors.Vocab object at 0x00000112F3F03A88>, 'different': <gensim.models.keyedvectors.Vocab object at 0x00000112F3F03608>, 'versions': <gensim.models.keyedvectors.Vocab object at 0x00000112F3F03C08>, 'deal': <gensim.models.keyedvectors.Vocab object at 0x00000112F3F03208>, 'screen': <gensim.models.keyedvectors.Vocab object at 0x00000112F3F03EC8>, 'sizes': <gensim.models.keyedvectors.Vocab object at 0x00000112F3F03D48>, 'ui': <gensim.models.keyedvectors.Vocab object at 0x00000112F3F03B08>, 'principles': <gensim.models.keyedvectors.Vocab object at 0x00000112F3F037C8>, 'patterns': <gensim.models.keyedvectors.Vocab object at 0x00000112F3F03708>, 'best': <gensim.models.keyedvectors.Vocab object at 0x00000112F3F032C8>, 'practices': <gensim.models.keyedvectors.Vocab object at 0x00000112F3F03408>, 'ecosystem': <gensim.models.keyedvectors.Vocab object at 0x00000112F3F04F88>, 'working': <gensim.models.keyedvectors.Vocab object at 0x00000112F3F04288>, 'general': <gensim.models.keyedvectors.Vocab object at 0x00000112F3F04108>, 'mobile': <gensim.models.keyedvectors.Vocab object at 0x00000112F3F04408>, 'landscape': <gensim.models.keyedvectors.Vocab object at 0x00000112F3F04508>, 'architectures': <gensim.models.keyedvectors.Vocab object at 0x00000112F3F047C8>, 'trends': <gensim.models.keyedvectors.Vocab object at 0x00000112F3F04988>, 'emerging': <gensim.models.keyedvectors.Vocab object at 0x00000112F3F04CC8>, 'technologies': <gensim.models.keyedvectors.Vocab object at 0x00000112F3F04208>, 'solid': <gensim.models.keyedvectors.Vocab object at 0x00000112F3F04748>, 'understanding': <gensim.models.keyedvectors.Vocab object at 0x00000112F3F04888>, 'full': <gensim.models.keyedvectors.Vocab object at 0x00000112F3F042C8>, 'development': <gensim.models.keyedvectors.Vocab object at 0x00000112F3F04A88>, 'life': <gensim.models.keyedvectors.Vocab object at 0x00000112F3F04308>, 'cycle': <gensim.models.keyedvectors.Vocab object at 0x00000112F3F04B08>, 'critical': <gensim.models.keyedvectors.Vocab object at 0x00000112F3F04DC8>, 'thinker': <gensim.models.keyedvectors.Vocab object at 0x00000112F46F6988>, 'problem-solving': <gensim.models.keyedvectors.Vocab object at 0x00000112F46F6CC8>, 'skills': <gensim.models.keyedvectors.Vocab object at 0x00000112F46F6588>, 'hands-on': <gensim.models.keyedvectors.Vocab object at 0x00000112F46F6808>, 'application': <gensim.models.keyedvectors.Vocab object at 0x00000112F46F6DC8>, 'highly': <gensim.models.keyedvectors.Vocab object at 0x00000112F46F6F08>, 'proficient': <gensim.models.keyedvectors.Vocab object at 0x00000112F46F6C48>, 'object-oriented': <gensim.models.keyedvectors.Vocab object at 0x00000112F46F6E08>, 'methodologies': <gensim.models.keyedvectors.Vocab object at 0x00000112F46F6FC8>, 'data': <gensim.models.keyedvectors.Vocab object at 0x00000112F46F6688>, 'structures': <gensim.models.keyedvectors.Vocab object at 0x00000112F46F6388>, 'algorithms': <gensim.models.keyedvectors.Vocab object at 0x00000112F46F64C8>, 'quality': <gensim.models.keyedvectors.Vocab object at 0x00000112F45FA608>, 'coding': <gensim.models.keyedvectors.Vocab object at 0x00000112F45FA308>, 'excellent': <gensim.models.keyedvectors.Vocab object at 0x00000112F470D208>, 'debugging': <gensim.models.keyedvectors.Vocab object at 0x00000112F470D888>, 'education': <gensim.models.keyedvectors.Vocab object at 0x00000112F470D708>, 'master': <gensim.models.keyedvectors.Vocab object at 0x00000112F470D3C8>, 'business': <gensim.models.keyedvectors.Vocab object at 0x00000112F470D8C8>, 'administration': <gensim.models.keyedvectors.Vocab object at 0x00000112F470D948>, 'management': <gensim.models.keyedvectors.Vocab object at 0x00000112F470DB08>, 'school': <gensim.models.keyedvectors.Vocab object at 0x00000112F470D788>, 'cbse': <gensim.models.keyedvectors.Vocab object at 0x00000112F470DBC8>, 'completed': <gensim.models.keyedvectors.Vocab object at 0x00000112F470DCC8>, 'march': <gensim.models.keyedvectors.Vocab object at 0x00000112F470DD48>, '2001': <gensim.models.keyedvectors.Vocab object at 0x00000112F470DE08>, 'marks': <gensim.models.keyedvectors.Vocab object at 0x00000112F470D988>, '70': <gensim.models.keyedvectors.Vocab object at 0x00000112F470DD88>, '%': <gensim.models.keyedvectors.Vocab object at 0x00000112F470DDC8>, 'division': <gensim.models.keyedvectors.Vocab object at 0x00000112F470DD08>, 'work': <gensim.models.keyedvectors.Vocab object at 0x00000112F470D908>, '2003': <gensim.models.keyedvectors.Vocab object at 0x00000112F470DC48>, 'may': <gensim.models.keyedvectors.Vocab object at 0x00000112F470DC88>, '2006': <gensim.models.keyedvectors.Vocab object at 0x00000112F470D6C8>, 'pvt': <gensim.models.keyedvectors.Vocab object at 0x00000112F470DC08>, 'ltd': <gensim.models.keyedvectors.Vocab object at 0x00000112F470D648>, 'key': <gensim.models.keyedvectors.Vocab object at 0x00000112F470DB48>, 'result': <gensim.models.keyedvectors.Vocab object at 0x00000112F470D688>, 'areas': <gensim.models.keyedvectors.Vocab object at 0x00000112F470D7C8>, ':': <gensim.models.keyedvectors.Vocab object at 0x00000112F470DB88>, 'perform': <gensim.models.keyedvectors.Vocab object at 0x00000112F470D9C8>, 'upgrades': <gensim.models.keyedvectors.Vocab object at 0x00000112F470DA88>, 'maintenance': <gensim.models.keyedvectors.Vocab object at 0x00000112F470DA48>, 'modifying': <gensim.models.keyedvectors.Vocab object at 0x00000112F470DAC8>, 'existing': <gensim.models.keyedvectors.Vocab object at 0x00000112F470DA08>, 'software': <gensim.models.keyedvectors.Vocab object at 0x00000112F470D808>, 'improve': <gensim.models.keyedvectors.Vocab object at 0x00000112F470DFC8>, 'performance': <gensim.models.keyedvectors.Vocab object at 0x00000112F470DF08>, 'correct': <gensim.models.keyedvectors.Vocab object at 0x00000112F470D748>, 'errors': <gensim.models.keyedvectors.Vocab object at 0x00000112F3EFF2C8>, 'allow': <gensim.models.keyedvectors.Vocab object at 0x00000112F3EFF408>, 'adaptation': <gensim.models.keyedvectors.Vocab object at 0x00000112F3EFFCC8>, 'new': <gensim.models.keyedvectors.Vocab object at 0x00000112F3EFFF48>, 'hardware': <gensim.models.keyedvectors.Vocab object at 0x00000112F3EFFB88>, 'recommend': <gensim.models.keyedvectors.Vocab object at 0x00000112F3EFFAC8>, 'clients': <gensim.models.keyedvectors.Vocab object at 0x00000112F46F2108>, '’': <gensim.models.keyedvectors.Vocab object at 0x00000112F46F2708>, 'programs': <gensim.models.keyedvectors.Vocab object at 0x00000112F46F2948>, 'systems': <gensim.models.keyedvectors.Vocab object at 0x00000112F46F2588>, 'necessary': <gensim.models.keyedvectors.Vocab object at 0x00000112F46F2688>, 'analyze': <gensim.models.keyedvectors.Vocab object at 0x00000112F46F26C8>, 'requirements': <gensim.models.keyedvectors.Vocab object at 0x00000112F46F2848>, 'user': <gensim.models.keyedvectors.Vocab object at 0x00000112F46F2A08>, 'needs': <gensim.models.keyedvectors.Vocab object at 0x00000112F4701048>, 'determine': <gensim.models.keyedvectors.Vocab object at 0x00000112F4701088>, 'whether': <gensim.models.keyedvectors.Vocab object at 0x00000112F47010C8>, 'system': <gensim.models.keyedvectors.Vocab object at 0x00000112F4701108>, 'feasible': <gensim.models.keyedvectors.Vocab object at 0x00000112F4701148>, 'within': <gensim.models.keyedvectors.Vocab object at 0x00000112F4701188>, 'time': <gensim.models.keyedvectors.Vocab object at 0x00000112F47011C8>, 'budget': <gensim.models.keyedvectors.Vocab object at 0x00000112F4701208>, 'constraints': <gensim.models.keyedvectors.Vocab object at 0x00000112F4701248>, 'collaborate': <gensim.models.keyedvectors.Vocab object at 0x00000112F4701288>, 'engineers': <gensim.models.keyedvectors.Vocab object at 0x00000112F47012C8>, 'programmers': <gensim.models.keyedvectors.Vocab object at 0x00000112F4701308>, 'analysts': <gensim.models.keyedvectors.Vocab object at 0x00000112F4701348>, 'others': <gensim.models.keyedvectors.Vocab object at 0x00000112F4701388>, 'projects': <gensim.models.keyedvectors.Vocab object at 0x00000112F47013C8>, 'gather': <gensim.models.keyedvectors.Vocab object at 0x00000112F4701408>, 'information': <gensim.models.keyedvectors.Vocab object at 0x00000112F4701448>, 'project': <gensim.models.keyedvectors.Vocab object at 0x00000112F4701488>, 'capabilities': <gensim.models.keyedvectors.Vocab object at 0x00000112F47014C8>, 'limitations': <gensim.models.keyedvectors.Vocab object at 0x00000112F4701508>, 'interface': <gensim.models.keyedvectors.Vocab object at 0x00000112F4701548>, 'create': <gensim.models.keyedvectors.Vocab object at 0x00000112F4701588>, 'optimum': <gensim.models.keyedvectors.Vocab object at 0x00000112F47015C8>, 'develop': <gensim.models.keyedvectors.Vocab object at 0x00000112F4701608>, 'modify': <gensim.models.keyedvectors.Vocab object at 0x00000112F4701648>, 'using': <gensim.models.keyedvectors.Vocab object at 0x00000112F4701688>, 'mathematical': <gensim.models.keyedvectors.Vocab object at 0x00000112F47016C8>, 'models': <gensim.models.keyedvectors.Vocab object at 0x00000112F4701708>, 'scientific': <gensim.models.keyedvectors.Vocab object at 0x00000112F4701748>, 'analysis': <gensim.models.keyedvectors.Vocab object at 0x00000112F4701788>, 'predict': <gensim.models.keyedvectors.Vocab object at 0x00000112F47017C8>, 'measure': <gensim.models.keyedvectors.Vocab object at 0x00000112F4701808>, 'possible': <gensim.models.keyedvectors.Vocab object at 0x00000112F4701848>, 'outcomes': <gensim.models.keyedvectors.Vocab object at 0x00000112F4701888>, 'store': <gensim.models.keyedvectors.Vocab object at 0x00000112F47018C8>, 'retrieve': <gensim.models.keyedvectors.Vocab object at 0x00000112F4701908>, 'manipulate': <gensim.models.keyedvectors.Vocab object at 0x00000112F4701948>, 'understand': <gensim.models.keyedvectors.Vocab object at 0x00000112F4701988>, 'direct': <gensim.models.keyedvectors.Vocab object at 0x00000112F47019C8>, 'testing': <gensim.models.keyedvectors.Vocab object at 0x00000112F4701A08>, 'validation': <gensim.models.keyedvectors.Vocab object at 0x00000112F4701A48>, 'procedures': <gensim.models.keyedvectors.Vocab object at 0x00000112F4701A88>, 'documentation': <gensim.models.keyedvectors.Vocab object at 0x00000112F4701AC8>, 'programming': <gensim.models.keyedvectors.Vocab object at 0x00000112F4701B08>, 'ensure': <gensim.models.keyedvectors.Vocab object at 0x00000112F4701B48>, 'normal': <gensim.models.keyedvectors.Vocab object at 0x00000112F4701B88>, 'program': <gensim.models.keyedvectors.Vocab object at 0x00000112F4701BC8>, 'functioning': <gensim.models.keyedvectors.Vocab object at 0x00000112F4701C08>, 'manage': <gensim.models.keyedvectors.Vocab object at 0x00000112F4701C48>, 'technologists': <gensim.models.keyedvectors.Vocab object at 0x00000112F4701C88>, 'technicians': <gensim.models.keyedvectors.Vocab object at 0x00000112F4701CC8>, 'related': <gensim.models.keyedvectors.Vocab object at 0x00000112F4701D08>, 'team': <gensim.models.keyedvectors.Vocab object at 0x00000112F4701D48>, 'members': <gensim.models.keyedvectors.Vocab object at 0x00000112F4701D88>, 'provide': <gensim.models.keyedvectors.Vocab object at 0x00000112F4701DC8>, 'instruction': <gensim.models.keyedvectors.Vocab object at 0x00000112F4701E08>, 'writing': <gensim.models.keyedvectors.Vocab object at 0x00000112F4701E48>, 'code': <gensim.models.keyedvectors.Vocab object at 0x00000112F4701E88>, 'needed': <gensim.models.keyedvectors.Vocab object at 0x00000112F4701EC8>, 'coordinate': <gensim.models.keyedvectors.Vocab object at 0x00000112F4701F08>, 'installation': <gensim.models.keyedvectors.Vocab object at 0x00000112F4701F48>, 'monitor': <gensim.models.keyedvectors.Vocab object at 0x00000112F4701F88>, 'equipment': <gensim.models.keyedvectors.Vocab object at 0x00000112F4701FC8>, 'confirm': <gensim.models.keyedvectors.Vocab object at 0x00000112F4704048>, 'specifications': <gensim.models.keyedvectors.Vocab object at 0x00000112F4704088>, 'met': <gensim.models.keyedvectors.Vocab object at 0x00000112F47040C8>, 'highlights': <gensim.models.keyedvectors.Vocab object at 0x00000112F4704108>, 'systems/': <gensim.models.keyedvectors.Vocab object at 0x00000112F4704148>, 'processes': <gensim.models.keyedvectors.Vocab object at 0x00000112F4704188>, 'streamlined': <gensim.models.keyedvectors.Vocab object at 0x00000112F47041C8>, '?': <gensim.models.keyedvectors.Vocab object at 0x00000112F4704208>, 'results': <gensim.models.keyedvectors.Vocab object at 0x00000112F4704248>, 'obtained': <gensim.models.keyedvectors.Vocab object at 0x00000112F4704288>, 'major': <gensim.models.keyedvectors.Vocab object at 0x00000112F47042C8>, 'assignments': <gensim.models.keyedvectors.Vocab object at 0x00000112F4704308>, 'handled': <gensim.models.keyedvectors.Vocab object at 0x00000112F4704348>, 'unique': <gensim.models.keyedvectors.Vocab object at 0x00000112F4704388>, 'initiative': <gensim.models.keyedvectors.Vocab object at 0x00000112F470B788>, 'taken': <gensim.models.keyedvectors.Vocab object at 0x00000112F470B048>, 'customer': <gensim.models.keyedvectors.Vocab object at 0x00000112F470B288>, 'satisfaction': <gensim.models.keyedvectors.Vocab object at 0x00000112F470B348>, 'level': <gensim.models.keyedvectors.Vocab object at 0x00000112F470B7C8>, 'accounts/clients': <gensim.models.keyedvectors.Vocab object at 0x00000112F470B5C8>, 'awards/appreciation': <gensim.models.keyedvectors.Vocab object at 0x00000112F470B308>, 'letters': <gensim.models.keyedvectors.Vocab object at 0x00000112F470E108>, 'received': <gensim.models.keyedvectors.Vocab object at 0x00000112F470E848>, 'relevant': <gensim.models.keyedvectors.Vocab object at 0x00000112F470E508>, 'achievements': <gensim.models.keyedvectors.Vocab object at 0x00000112F470EB08>, 'training': <gensim.models.keyedvectors.Vocab object at 0x00000112F470EBC8>, 'certifications': <gensim.models.keyedvectors.Vocab object at 0x00000112F470EA48>, 'institute': <gensim.models.keyedvectors.Vocab object at 0x00000112F470E408>, '2007': <gensim.models.keyedvectors.Vocab object at 0x00000112F470EF48>, 'computer': <gensim.models.keyedvectors.Vocab object at 0x00000112F470E248>, 'proficiency': <gensim.models.keyedvectors.Vocab object at 0x00000112F470EE88>, 'operating': <gensim.models.keyedvectors.Vocab object at 0x00000112F470EE08>, 'window': <gensim.models.keyedvectors.Vocab object at 0x00000112F470E308>, 'todo.vu': <gensim.models.keyedvectors.Vocab object at 0x00000112F470E688>, 'languages': <gensim.models.keyedvectors.Vocab object at 0x00000112F470EB88>, 'hindi': <gensim.models.keyedvectors.Vocab object at 0x00000112F470E908>, 'english': <gensim.models.keyedvectors.Vocab object at 0x00000112F470E3C8>, 'personal': <gensim.models.keyedvectors.Vocab object at 0x00000112F470E8C8>, 'interests': <gensim.models.keyedvectors.Vocab object at 0x00000112F470E948>, 'exhibiting': <gensim.models.keyedvectors.Vocab object at 0x00000112F470D388>, 'desire': <gensim.models.keyedvectors.Vocab object at 0x00000112F470D608>, 'cultures': <gensim.models.keyedvectors.Vocab object at 0x00000112F470D588>, 'environments—especially': <gensim.models.keyedvectors.Vocab object at 0x00000112F470D348>, 'role': <gensim.models.keyedvectors.Vocab object at 0x00000112F470D5C8>, 'would': <gensim.models.keyedvectors.Vocab object at 0x00000112F470D548>, 'involve': <gensim.models.keyedvectors.Vocab object at 0x00000112F470D508>, 'foreign': <gensim.models.keyedvectors.Vocab object at 0x00000112F470D4C8>, 'colleagues': <gensim.models.keyedvectors.Vocab object at 0x00000112F470D2C8>, 'partners': <gensim.models.keyedvectors.Vocab object at 0x00000112F470D1C8>, 'clients—can': <gensim.models.keyedvectors.Vocab object at 0x00000112F470D308>, 'really': <gensim.models.keyedvectors.Vocab object at 0x00000112F470D248>, 'help': <gensim.models.keyedvectors.Vocab object at 0x00000112F470D288>, 'resume': <gensim.models.keyedvectors.Vocab object at 0x00000112F470D408>, 'shine': <gensim.models.keyedvectors.Vocab object at 0x00000112F3EFF1C8>, 'details': <gensim.models.keyedvectors.Vocab object at 0x00000112F3EFF648>, 'father': <gensim.models.keyedvectors.Vocab object at 0x00000112F3EFF348>, 'name': <gensim.models.keyedvectors.Vocab object at 0x00000112F3EFF3C8>, 'mr.': <gensim.models.keyedvectors.Vocab object at 0x00000112F3EFF588>, 'birthday': <gensim.models.keyedvectors.Vocab object at 0x00000112F3EFF108>, 'february': <gensim.models.keyedvectors.Vocab object at 0x00000112F3EFF188>, '06': <gensim.models.keyedvectors.Vocab object at 0x00000112F3EFF088>, '1994': <gensim.models.keyedvectors.Vocab object at 0x00000112F3EFF248>, 'gender': <gensim.models.keyedvectors.Vocab object at 0x00000112F3EFF308>, 'male': <gensim.models.keyedvectors.Vocab object at 0x00000112F3EFF148>, 'marital': <gensim.models.keyedvectors.Vocab object at 0x00000112F3EFF288>, 'status': <gensim.models.keyedvectors.Vocab object at 0x00000112F4308808>, 'single': <gensim.models.keyedvectors.Vocab object at 0x00000112F3EFEF48>, 'nationality': <gensim.models.keyedvectors.Vocab object at 0x00000112F3EFEEC8>, 'india': <gensim.models.keyedvectors.Vocab object at 0x00000112F3EFEAC8>, 'declaration': <gensim.models.keyedvectors.Vocab object at 0x00000112F3EFEE08>, '25': <gensim.models.keyedvectors.Vocab object at 0x00000112F3EFE448>, '2019': <gensim.models.keyedvectors.Vocab object at 0x00000112F3EFE848>}\n"
     ]
    }
   ],
   "source": [
    "print(words)"
   ]
  },
  {
   "cell_type": "code",
   "execution_count": 44,
   "metadata": {},
   "outputs": [],
   "source": [
    "job_desc = docx2txt.process(\"C:/Users/avira/OneDrive/Documents/Company Introduction.docx\")"
   ]
  },
  {
   "cell_type": "code",
   "execution_count": 45,
   "metadata": {},
   "outputs": [],
   "source": [
    "jobdesc= re.sub(r'\\s+',' ',job_desc)"
   ]
  },
  {
   "cell_type": "code",
   "execution_count": 46,
   "metadata": {},
   "outputs": [
    {
     "name": "stdout",
     "output_type": "stream",
     "text": [
      "Company Introduction {{ Write a short and catchy paragraph about your company. Make sure to provide information about the company’s culture, perks, and benefits. Mention office hours, remote working possibilities, and everything else that you think makes your company interesting. }} Job Description We are looking for a strong mobile app developer who welcomes both engineering and maintenance tasks. The primary focus will be to implement new user interfaces and features together with automated unit and integration tests. You will be working with our candid and collaborative team, where your knowledge and advice about application architecture and the newest mobile technologies will be highly appreciated. The code you write will need to be cleanly organized and of the highest quality. You’ll also help ensure solid application performance and an excellent user experience. Responsibilities Developing new features and user interfaces from wireframe models Ensuring the best performance and user experience of the application Fixing bugs and performance problems Writing clean, readable, and testable code Cooperating with back-end developers, designers, and the rest of the team to deliver well-architected and high-quality solutions {{Add any other relevant responsibilities here}} Skills Extensive knowledge about mobile app development. This includes the whole process, from the first line of code to publishing in the store(s) Deep knowledge of {{ List here the mobile platforms on which the app runs, e.g., Android, iOS, etc. }} Proficiency with writing automated tests in {{ JUnit, Espresso, Mocha, Jest, Enzyme, XCTest, etc. depending on the libraries you use to test }} Familiarity with RESTful APIs and mobile libraries for networking, specifically {{ Retrofit, axios, Alamofire, etc. }} Familiarity with the JSON format Experience with profiling and debugging mobile applications Strong knowledge of architectural patterns—MVP, MVC, MVVM, and Clean Architecture—and the ability to choose the best solution for the app Familiarity with Git Familiarity with push notifications Understanding mobile app design guidelines on each platform and being aware of their differences Proficiency in {{ Kotlin/Java/Swift/Objective-C/JavaScript/C#, whichever language you use in the app }} {{ Make sure to mention any other frameworks, libraries, or other technologies or development patterns that are relevant to your project}} {{ List any specific hardware or sensors, like GPS or Bluetooth, that the app will use }} {{ List any integrations that will need to be done (Facebook, Firebase, etc.) }} {{ List any education level or certification you may require}} See also:Toptal’s growing, community-driven list of\n"
     ]
    }
   ],
   "source": [
    "print(jobdesc)"
   ]
  },
  {
   "cell_type": "code",
   "execution_count": 47,
   "metadata": {},
   "outputs": [],
   "source": [
    "jobdesc=jobdesc.lower()"
   ]
  },
  {
   "cell_type": "code",
   "execution_count": 48,
   "metadata": {},
   "outputs": [],
   "source": [
    "sentences1 = nltk.sent_tokenize(jobdesc)"
   ]
  },
  {
   "cell_type": "code",
   "execution_count": 49,
   "metadata": {},
   "outputs": [
    {
     "name": "stdout",
     "output_type": "stream",
     "text": [
      "['company introduction {{ write a short and catchy paragraph about your company.', 'make sure to provide information about the company’s culture, perks, and benefits.', 'mention office hours, remote working possibilities, and everything else that you think makes your company interesting. }}', 'job description we are looking for a strong mobile app developer who welcomes both engineering and maintenance tasks.', 'the primary focus will be to implement new user interfaces and features together with automated unit and integration tests.', 'you will be working with our candid and collaborative team, where your knowledge and advice about application architecture and the newest mobile technologies will be highly appreciated.', 'the code you write will need to be cleanly organized and of the highest quality.', 'you’ll also help ensure solid application performance and an excellent user experience.', 'responsibilities developing new features and user interfaces from wireframe models ensuring the best performance and user experience of the application fixing bugs and performance problems writing clean, readable, and testable code cooperating with back-end developers, designers, and the rest of the team to deliver well-architected and high-quality solutions {{add any other relevant responsibilities here}} skills extensive knowledge about mobile app development.', 'this includes the whole process, from the first line of code to publishing in the store(s) deep knowledge of {{ list here the mobile platforms on which the app runs, e.g., android, ios, etc. }}', 'proficiency with writing automated tests in {{ junit, espresso, mocha, jest, enzyme, xctest, etc.', 'depending on the libraries you use to test }} familiarity with restful apis and mobile libraries for networking, specifically {{ retrofit, axios, alamofire, etc. }}', 'familiarity with the json format experience with profiling and debugging mobile applications strong knowledge of architectural patterns—mvp, mvc, mvvm, and clean architecture—and the ability to choose the best solution for the app familiarity with git familiarity with push notifications understanding mobile app design guidelines on each platform and being aware of their differences proficiency in {{ kotlin/java/swift/objective-c/javascript/c#, whichever language you use in the app }} {{ make sure to mention any other frameworks, libraries, or other technologies or development patterns that are relevant to your project}} {{ list any specific hardware or sensors, like gps or bluetooth, that the app will use }} {{ list any integrations that will need to be done (facebook, firebase, etc.)', '}} {{ list any education level or certification you may require}} see also:toptal’s growing, community-driven list of']\n"
     ]
    }
   ],
   "source": [
    "print(sentences1)"
   ]
  },
  {
   "cell_type": "code",
   "execution_count": 50,
   "metadata": {},
   "outputs": [],
   "source": [
    "sentences1 = [nltk.word_tokenize(sentence) for sentence in sentences1]"
   ]
  },
  {
   "cell_type": "code",
   "execution_count": 51,
   "metadata": {},
   "outputs": [
    {
     "name": "stdout",
     "output_type": "stream",
     "text": [
      "[['company', 'introduction', '{', '{', 'write', 'a', 'short', 'and', 'catchy', 'paragraph', 'about', 'your', 'company', '.'], ['make', 'sure', 'to', 'provide', 'information', 'about', 'the', 'company', '’', 's', 'culture', ',', 'perks', ',', 'and', 'benefits', '.'], ['mention', 'office', 'hours', ',', 'remote', 'working', 'possibilities', ',', 'and', 'everything', 'else', 'that', 'you', 'think', 'makes', 'your', 'company', 'interesting', '.', '}', '}'], ['job', 'description', 'we', 'are', 'looking', 'for', 'a', 'strong', 'mobile', 'app', 'developer', 'who', 'welcomes', 'both', 'engineering', 'and', 'maintenance', 'tasks', '.'], ['the', 'primary', 'focus', 'will', 'be', 'to', 'implement', 'new', 'user', 'interfaces', 'and', 'features', 'together', 'with', 'automated', 'unit', 'and', 'integration', 'tests', '.'], ['you', 'will', 'be', 'working', 'with', 'our', 'candid', 'and', 'collaborative', 'team', ',', 'where', 'your', 'knowledge', 'and', 'advice', 'about', 'application', 'architecture', 'and', 'the', 'newest', 'mobile', 'technologies', 'will', 'be', 'highly', 'appreciated', '.'], ['the', 'code', 'you', 'write', 'will', 'need', 'to', 'be', 'cleanly', 'organized', 'and', 'of', 'the', 'highest', 'quality', '.'], ['you', '’', 'll', 'also', 'help', 'ensure', 'solid', 'application', 'performance', 'and', 'an', 'excellent', 'user', 'experience', '.'], ['responsibilities', 'developing', 'new', 'features', 'and', 'user', 'interfaces', 'from', 'wireframe', 'models', 'ensuring', 'the', 'best', 'performance', 'and', 'user', 'experience', 'of', 'the', 'application', 'fixing', 'bugs', 'and', 'performance', 'problems', 'writing', 'clean', ',', 'readable', ',', 'and', 'testable', 'code', 'cooperating', 'with', 'back-end', 'developers', ',', 'designers', ',', 'and', 'the', 'rest', 'of', 'the', 'team', 'to', 'deliver', 'well-architected', 'and', 'high-quality', 'solutions', '{', '{', 'add', 'any', 'other', 'relevant', 'responsibilities', 'here', '}', '}', 'skills', 'extensive', 'knowledge', 'about', 'mobile', 'app', 'development', '.'], ['this', 'includes', 'the', 'whole', 'process', ',', 'from', 'the', 'first', 'line', 'of', 'code', 'to', 'publishing', 'in', 'the', 'store', '(', 's', ')', 'deep', 'knowledge', 'of', '{', '{', 'list', 'here', 'the', 'mobile', 'platforms', 'on', 'which', 'the', 'app', 'runs', ',', 'e.g.', ',', 'android', ',', 'ios', ',', 'etc', '.', '}', '}'], ['proficiency', 'with', 'writing', 'automated', 'tests', 'in', '{', '{', 'junit', ',', 'espresso', ',', 'mocha', ',', 'jest', ',', 'enzyme', ',', 'xctest', ',', 'etc', '.'], ['depending', 'on', 'the', 'libraries', 'you', 'use', 'to', 'test', '}', '}', 'familiarity', 'with', 'restful', 'apis', 'and', 'mobile', 'libraries', 'for', 'networking', ',', 'specifically', '{', '{', 'retrofit', ',', 'axios', ',', 'alamofire', ',', 'etc', '.', '}', '}'], ['familiarity', 'with', 'the', 'json', 'format', 'experience', 'with', 'profiling', 'and', 'debugging', 'mobile', 'applications', 'strong', 'knowledge', 'of', 'architectural', 'patterns—mvp', ',', 'mvc', ',', 'mvvm', ',', 'and', 'clean', 'architecture—and', 'the', 'ability', 'to', 'choose', 'the', 'best', 'solution', 'for', 'the', 'app', 'familiarity', 'with', 'git', 'familiarity', 'with', 'push', 'notifications', 'understanding', 'mobile', 'app', 'design', 'guidelines', 'on', 'each', 'platform', 'and', 'being', 'aware', 'of', 'their', 'differences', 'proficiency', 'in', '{', '{', 'kotlin/java/swift/objective-c/javascript/c', '#', ',', 'whichever', 'language', 'you', 'use', 'in', 'the', 'app', '}', '}', '{', '{', 'make', 'sure', 'to', 'mention', 'any', 'other', 'frameworks', ',', 'libraries', ',', 'or', 'other', 'technologies', 'or', 'development', 'patterns', 'that', 'are', 'relevant', 'to', 'your', 'project', '}', '}', '{', '{', 'list', 'any', 'specific', 'hardware', 'or', 'sensors', ',', 'like', 'gps', 'or', 'bluetooth', ',', 'that', 'the', 'app', 'will', 'use', '}', '}', '{', '{', 'list', 'any', 'integrations', 'that', 'will', 'need', 'to', 'be', 'done', '(', 'facebook', ',', 'firebase', ',', 'etc', '.', ')'], ['}', '}', '{', '{', 'list', 'any', 'education', 'level', 'or', 'certification', 'you', 'may', 'require', '}', '}', 'see', 'also', ':', 'toptal', '’', 's', 'growing', ',', 'community-driven', 'list', 'of']]\n"
     ]
    }
   ],
   "source": [
    "print(sentences1)"
   ]
  },
  {
   "cell_type": "code",
   "execution_count": 52,
   "metadata": {},
   "outputs": [],
   "source": [
    "for i in range(len(sentences1)):\n",
    "    sentences1[i] = [word for word in sentences1[i] if word not in stopwords.words('english')]"
   ]
  },
  {
   "cell_type": "code",
   "execution_count": 53,
   "metadata": {},
   "outputs": [
    {
     "name": "stdout",
     "output_type": "stream",
     "text": [
      "[['company', 'introduction', '{', '{', 'write', 'short', 'catchy', 'paragraph', 'company', '.'], ['make', 'sure', 'provide', 'information', 'company', '’', 'culture', ',', 'perks', ',', 'benefits', '.'], ['mention', 'office', 'hours', ',', 'remote', 'working', 'possibilities', ',', 'everything', 'else', 'think', 'makes', 'company', 'interesting', '.', '}', '}'], ['job', 'description', 'looking', 'strong', 'mobile', 'app', 'developer', 'welcomes', 'engineering', 'maintenance', 'tasks', '.'], ['primary', 'focus', 'implement', 'new', 'user', 'interfaces', 'features', 'together', 'automated', 'unit', 'integration', 'tests', '.'], ['working', 'candid', 'collaborative', 'team', ',', 'knowledge', 'advice', 'application', 'architecture', 'newest', 'mobile', 'technologies', 'highly', 'appreciated', '.'], ['code', 'write', 'need', 'cleanly', 'organized', 'highest', 'quality', '.'], ['’', 'also', 'help', 'ensure', 'solid', 'application', 'performance', 'excellent', 'user', 'experience', '.'], ['responsibilities', 'developing', 'new', 'features', 'user', 'interfaces', 'wireframe', 'models', 'ensuring', 'best', 'performance', 'user', 'experience', 'application', 'fixing', 'bugs', 'performance', 'problems', 'writing', 'clean', ',', 'readable', ',', 'testable', 'code', 'cooperating', 'back-end', 'developers', ',', 'designers', ',', 'rest', 'team', 'deliver', 'well-architected', 'high-quality', 'solutions', '{', '{', 'add', 'relevant', 'responsibilities', '}', '}', 'skills', 'extensive', 'knowledge', 'mobile', 'app', 'development', '.'], ['includes', 'whole', 'process', ',', 'first', 'line', 'code', 'publishing', 'store', '(', ')', 'deep', 'knowledge', '{', '{', 'list', 'mobile', 'platforms', 'app', 'runs', ',', 'e.g.', ',', 'android', ',', 'ios', ',', 'etc', '.', '}', '}'], ['proficiency', 'writing', 'automated', 'tests', '{', '{', 'junit', ',', 'espresso', ',', 'mocha', ',', 'jest', ',', 'enzyme', ',', 'xctest', ',', 'etc', '.'], ['depending', 'libraries', 'use', 'test', '}', '}', 'familiarity', 'restful', 'apis', 'mobile', 'libraries', 'networking', ',', 'specifically', '{', '{', 'retrofit', ',', 'axios', ',', 'alamofire', ',', 'etc', '.', '}', '}'], ['familiarity', 'json', 'format', 'experience', 'profiling', 'debugging', 'mobile', 'applications', 'strong', 'knowledge', 'architectural', 'patterns—mvp', ',', 'mvc', ',', 'mvvm', ',', 'clean', 'architecture—and', 'ability', 'choose', 'best', 'solution', 'app', 'familiarity', 'git', 'familiarity', 'push', 'notifications', 'understanding', 'mobile', 'app', 'design', 'guidelines', 'platform', 'aware', 'differences', 'proficiency', '{', '{', 'kotlin/java/swift/objective-c/javascript/c', '#', ',', 'whichever', 'language', 'use', 'app', '}', '}', '{', '{', 'make', 'sure', 'mention', 'frameworks', ',', 'libraries', ',', 'technologies', 'development', 'patterns', 'relevant', 'project', '}', '}', '{', '{', 'list', 'specific', 'hardware', 'sensors', ',', 'like', 'gps', 'bluetooth', ',', 'app', 'use', '}', '}', '{', '{', 'list', 'integrations', 'need', 'done', '(', 'facebook', ',', 'firebase', ',', 'etc', '.', ')'], ['}', '}', '{', '{', 'list', 'education', 'level', 'certification', 'may', 'require', '}', '}', 'see', 'also', ':', 'toptal', '’', 'growing', ',', 'community-driven', 'list']]\n"
     ]
    }
   ],
   "source": [
    "print(sentences1)"
   ]
  },
  {
   "cell_type": "code",
   "execution_count": 54,
   "metadata": {},
   "outputs": [],
   "source": [
    "model1 = Word2Vec(sentences1, min_count=1)"
   ]
  },
  {
   "cell_type": "code",
   "execution_count": 55,
   "metadata": {},
   "outputs": [
    {
     "name": "stdout",
     "output_type": "stream",
     "text": [
      "Word2Vec(vocab=188, size=100, alpha=0.025)\n"
     ]
    }
   ],
   "source": [
    "print(model1)"
   ]
  },
  {
   "cell_type": "code",
   "execution_count": 56,
   "metadata": {},
   "outputs": [],
   "source": [
    "words1 = model1.wv.vocab"
   ]
  },
  {
   "cell_type": "code",
   "execution_count": 57,
   "metadata": {},
   "outputs": [
    {
     "name": "stdout",
     "output_type": "stream",
     "text": [
      "{'company': <gensim.models.keyedvectors.Vocab object at 0x00000112F472CB08>, 'introduction': <gensim.models.keyedvectors.Vocab object at 0x00000112F472CA48>, '{': <gensim.models.keyedvectors.Vocab object at 0x00000112F472C988>, 'write': <gensim.models.keyedvectors.Vocab object at 0x00000112F472C348>, 'short': <gensim.models.keyedvectors.Vocab object at 0x00000112F472CA88>, 'catchy': <gensim.models.keyedvectors.Vocab object at 0x00000112F472CAC8>, 'paragraph': <gensim.models.keyedvectors.Vocab object at 0x00000112F472CC08>, '.': <gensim.models.keyedvectors.Vocab object at 0x00000112F472CB88>, 'make': <gensim.models.keyedvectors.Vocab object at 0x00000112F472C9C8>, 'sure': <gensim.models.keyedvectors.Vocab object at 0x00000112F472CC48>, 'provide': <gensim.models.keyedvectors.Vocab object at 0x00000112F472CC88>, 'information': <gensim.models.keyedvectors.Vocab object at 0x00000112F472CBC8>, '’': <gensim.models.keyedvectors.Vocab object at 0x00000112F472CD08>, 'culture': <gensim.models.keyedvectors.Vocab object at 0x00000112F472CD48>, ',': <gensim.models.keyedvectors.Vocab object at 0x00000112F472CD88>, 'perks': <gensim.models.keyedvectors.Vocab object at 0x00000112F472CDC8>, 'benefits': <gensim.models.keyedvectors.Vocab object at 0x00000112F472CE08>, 'mention': <gensim.models.keyedvectors.Vocab object at 0x00000112F472CE48>, 'office': <gensim.models.keyedvectors.Vocab object at 0x00000112F472CE88>, 'hours': <gensim.models.keyedvectors.Vocab object at 0x00000112F472CEC8>, 'remote': <gensim.models.keyedvectors.Vocab object at 0x00000112F472CF08>, 'working': <gensim.models.keyedvectors.Vocab object at 0x00000112F472CF48>, 'possibilities': <gensim.models.keyedvectors.Vocab object at 0x00000112F472CF88>, 'everything': <gensim.models.keyedvectors.Vocab object at 0x00000112F472CFC8>, 'else': <gensim.models.keyedvectors.Vocab object at 0x00000112F472C248>, 'think': <gensim.models.keyedvectors.Vocab object at 0x00000112F472C408>, 'makes': <gensim.models.keyedvectors.Vocab object at 0x00000112F472C488>, 'interesting': <gensim.models.keyedvectors.Vocab object at 0x00000112F472C308>, '}': <gensim.models.keyedvectors.Vocab object at 0x00000112F472C3C8>, 'job': <gensim.models.keyedvectors.Vocab object at 0x00000112F472C548>, 'description': <gensim.models.keyedvectors.Vocab object at 0x00000112F472C288>, 'looking': <gensim.models.keyedvectors.Vocab object at 0x00000112F472C588>, 'strong': <gensim.models.keyedvectors.Vocab object at 0x00000112F472C648>, 'mobile': <gensim.models.keyedvectors.Vocab object at 0x00000112F472C448>, 'app': <gensim.models.keyedvectors.Vocab object at 0x00000112F472C688>, 'developer': <gensim.models.keyedvectors.Vocab object at 0x00000112F472C388>, 'welcomes': <gensim.models.keyedvectors.Vocab object at 0x00000112F472C1C8>, 'engineering': <gensim.models.keyedvectors.Vocab object at 0x00000112F472C6C8>, 'maintenance': <gensim.models.keyedvectors.Vocab object at 0x00000112F472C608>, 'tasks': <gensim.models.keyedvectors.Vocab object at 0x00000112F472C5C8>, 'primary': <gensim.models.keyedvectors.Vocab object at 0x00000112F472C848>, 'focus': <gensim.models.keyedvectors.Vocab object at 0x00000112F472C788>, 'implement': <gensim.models.keyedvectors.Vocab object at 0x00000112F472C7C8>, 'new': <gensim.models.keyedvectors.Vocab object at 0x00000112F472C8C8>, 'user': <gensim.models.keyedvectors.Vocab object at 0x00000112F472C908>, 'interfaces': <gensim.models.keyedvectors.Vocab object at 0x00000112F3F0C5C8>, 'features': <gensim.models.keyedvectors.Vocab object at 0x00000112F3F0C1C8>, 'together': <gensim.models.keyedvectors.Vocab object at 0x00000112F3F0C7C8>, 'automated': <gensim.models.keyedvectors.Vocab object at 0x00000112F3F0C808>, 'unit': <gensim.models.keyedvectors.Vocab object at 0x00000112F3F0C0C8>, 'integration': <gensim.models.keyedvectors.Vocab object at 0x00000112F3F0C348>, 'tests': <gensim.models.keyedvectors.Vocab object at 0x00000112F3F0C408>, 'candid': <gensim.models.keyedvectors.Vocab object at 0x00000112F3F0C648>, 'collaborative': <gensim.models.keyedvectors.Vocab object at 0x00000112F3F0C208>, 'team': <gensim.models.keyedvectors.Vocab object at 0x00000112F3F0C588>, 'knowledge': <gensim.models.keyedvectors.Vocab object at 0x00000112F3F0CA88>, 'advice': <gensim.models.keyedvectors.Vocab object at 0x00000112F3F0CD48>, 'application': <gensim.models.keyedvectors.Vocab object at 0x00000112F3F0C688>, 'architecture': <gensim.models.keyedvectors.Vocab object at 0x00000112F3F0C4C8>, 'newest': <gensim.models.keyedvectors.Vocab object at 0x00000112F3F0CA48>, 'technologies': <gensim.models.keyedvectors.Vocab object at 0x00000112F3F0C488>, 'highly': <gensim.models.keyedvectors.Vocab object at 0x00000112F3F0C388>, 'appreciated': <gensim.models.keyedvectors.Vocab object at 0x00000112F3F0C088>, 'code': <gensim.models.keyedvectors.Vocab object at 0x00000112F3F0CF08>, 'need': <gensim.models.keyedvectors.Vocab object at 0x00000112F3F0F308>, 'cleanly': <gensim.models.keyedvectors.Vocab object at 0x00000112F3F0F8C8>, 'organized': <gensim.models.keyedvectors.Vocab object at 0x00000112F3F0F6C8>, 'highest': <gensim.models.keyedvectors.Vocab object at 0x00000112F3F0F348>, 'quality': <gensim.models.keyedvectors.Vocab object at 0x00000112F3F0F588>, 'also': <gensim.models.keyedvectors.Vocab object at 0x00000112F3F0F548>, 'help': <gensim.models.keyedvectors.Vocab object at 0x00000112F3F0FB08>, 'ensure': <gensim.models.keyedvectors.Vocab object at 0x00000112F3F0F788>, 'solid': <gensim.models.keyedvectors.Vocab object at 0x00000112F3F0F1C8>, 'performance': <gensim.models.keyedvectors.Vocab object at 0x00000112F3F0F048>, 'excellent': <gensim.models.keyedvectors.Vocab object at 0x00000112F3F0FC88>, 'experience': <gensim.models.keyedvectors.Vocab object at 0x00000112F3F0F648>, 'responsibilities': <gensim.models.keyedvectors.Vocab object at 0x00000112F3F0D448>, 'developing': <gensim.models.keyedvectors.Vocab object at 0x00000112F3F0D408>, 'wireframe': <gensim.models.keyedvectors.Vocab object at 0x00000112F3F0D8C8>, 'models': <gensim.models.keyedvectors.Vocab object at 0x00000112F3F0D9C8>, 'ensuring': <gensim.models.keyedvectors.Vocab object at 0x00000112F3F0DE08>, 'best': <gensim.models.keyedvectors.Vocab object at 0x00000112F3F0DF08>, 'fixing': <gensim.models.keyedvectors.Vocab object at 0x00000112F3F0D988>, 'bugs': <gensim.models.keyedvectors.Vocab object at 0x00000112F3F0DC48>, 'problems': <gensim.models.keyedvectors.Vocab object at 0x00000112F3F0DCC8>, 'writing': <gensim.models.keyedvectors.Vocab object at 0x00000112F3F0DB08>, 'clean': <gensim.models.keyedvectors.Vocab object at 0x00000112F46ED1C8>, 'readable': <gensim.models.keyedvectors.Vocab object at 0x00000112F46ED048>, 'testable': <gensim.models.keyedvectors.Vocab object at 0x00000112F46EDD08>, 'cooperating': <gensim.models.keyedvectors.Vocab object at 0x00000112F46ED6C8>, 'back-end': <gensim.models.keyedvectors.Vocab object at 0x00000112F46ED448>, 'developers': <gensim.models.keyedvectors.Vocab object at 0x00000112F46EDF08>, 'designers': <gensim.models.keyedvectors.Vocab object at 0x00000112F46ED548>, 'rest': <gensim.models.keyedvectors.Vocab object at 0x00000112F46EDC48>, 'deliver': <gensim.models.keyedvectors.Vocab object at 0x00000112F46ED0C8>, 'well-architected': <gensim.models.keyedvectors.Vocab object at 0x00000112F46EDB88>, 'high-quality': <gensim.models.keyedvectors.Vocab object at 0x00000112F46EDA88>, 'solutions': <gensim.models.keyedvectors.Vocab object at 0x00000112F46EDF88>, 'add': <gensim.models.keyedvectors.Vocab object at 0x00000112F46ED4C8>, 'relevant': <gensim.models.keyedvectors.Vocab object at 0x00000112F46ED108>, 'skills': <gensim.models.keyedvectors.Vocab object at 0x00000112F46FAF48>, 'extensive': <gensim.models.keyedvectors.Vocab object at 0x00000112F46FA488>, 'development': <gensim.models.keyedvectors.Vocab object at 0x00000112F46FA548>, 'includes': <gensim.models.keyedvectors.Vocab object at 0x00000112F46FA3C8>, 'whole': <gensim.models.keyedvectors.Vocab object at 0x00000112F46FA288>, 'process': <gensim.models.keyedvectors.Vocab object at 0x00000112F46FA448>, 'first': <gensim.models.keyedvectors.Vocab object at 0x00000112F46FA588>, 'line': <gensim.models.keyedvectors.Vocab object at 0x00000112F46FA6C8>, 'publishing': <gensim.models.keyedvectors.Vocab object at 0x00000112F46FA208>, 'store': <gensim.models.keyedvectors.Vocab object at 0x00000112F46FA608>, '(': <gensim.models.keyedvectors.Vocab object at 0x00000112F46FA708>, ')': <gensim.models.keyedvectors.Vocab object at 0x00000112F46FA788>, 'deep': <gensim.models.keyedvectors.Vocab object at 0x00000112F46FA7C8>, 'list': <gensim.models.keyedvectors.Vocab object at 0x00000112F46FA888>, 'platforms': <gensim.models.keyedvectors.Vocab object at 0x00000112F46FA948>, 'runs': <gensim.models.keyedvectors.Vocab object at 0x00000112F46FAA48>, 'e.g.': <gensim.models.keyedvectors.Vocab object at 0x00000112F46FAAC8>, 'android': <gensim.models.keyedvectors.Vocab object at 0x00000112F46FAB08>, 'ios': <gensim.models.keyedvectors.Vocab object at 0x00000112F46FAB88>, 'etc': <gensim.models.keyedvectors.Vocab object at 0x00000112F46FAC48>, 'proficiency': <gensim.models.keyedvectors.Vocab object at 0x00000112F46FACC8>, 'junit': <gensim.models.keyedvectors.Vocab object at 0x00000112F46FAD08>, 'espresso': <gensim.models.keyedvectors.Vocab object at 0x00000112F46FAD88>, 'mocha': <gensim.models.keyedvectors.Vocab object at 0x00000112F46FADC8>, 'jest': <gensim.models.keyedvectors.Vocab object at 0x00000112F46FA048>, 'enzyme': <gensim.models.keyedvectors.Vocab object at 0x00000112F46FA148>, 'xctest': <gensim.models.keyedvectors.Vocab object at 0x00000112F46FA088>, 'depending': <gensim.models.keyedvectors.Vocab object at 0x00000112F46FA2C8>, 'libraries': <gensim.models.keyedvectors.Vocab object at 0x00000112F3F0B648>, 'use': <gensim.models.keyedvectors.Vocab object at 0x00000112F3F0BD48>, 'test': <gensim.models.keyedvectors.Vocab object at 0x00000112F3F0BBC8>, 'familiarity': <gensim.models.keyedvectors.Vocab object at 0x00000112F3F0BEC8>, 'restful': <gensim.models.keyedvectors.Vocab object at 0x00000112F3F0B8C8>, 'apis': <gensim.models.keyedvectors.Vocab object at 0x00000112F3F0BC48>, 'networking': <gensim.models.keyedvectors.Vocab object at 0x00000112F3F0B188>, 'specifically': <gensim.models.keyedvectors.Vocab object at 0x00000112F3F0BA48>, 'retrofit': <gensim.models.keyedvectors.Vocab object at 0x00000112F3F0B0C8>, 'axios': <gensim.models.keyedvectors.Vocab object at 0x00000112F3F0B388>, 'alamofire': <gensim.models.keyedvectors.Vocab object at 0x00000112F3F0B208>, 'json': <gensim.models.keyedvectors.Vocab object at 0x00000112F3F0B808>, 'format': <gensim.models.keyedvectors.Vocab object at 0x00000112F3F0B908>, 'profiling': <gensim.models.keyedvectors.Vocab object at 0x00000112F3F0B848>, 'debugging': <gensim.models.keyedvectors.Vocab object at 0x00000112F3F0BF48>, 'applications': <gensim.models.keyedvectors.Vocab object at 0x00000112F3F0B688>, 'architectural': <gensim.models.keyedvectors.Vocab object at 0x00000112F3F0BF88>, 'patterns—mvp': <gensim.models.keyedvectors.Vocab object at 0x00000112F3F0B9C8>, 'mvc': <gensim.models.keyedvectors.Vocab object at 0x00000112F3F0B508>, 'mvvm': <gensim.models.keyedvectors.Vocab object at 0x00000112F3F0BB88>, 'architecture—and': <gensim.models.keyedvectors.Vocab object at 0x00000112F3F106C8>, 'ability': <gensim.models.keyedvectors.Vocab object at 0x00000112F3F10648>, 'choose': <gensim.models.keyedvectors.Vocab object at 0x00000112F3F10788>, 'solution': <gensim.models.keyedvectors.Vocab object at 0x00000112F3F100C8>, 'git': <gensim.models.keyedvectors.Vocab object at 0x00000112F3F104C8>, 'push': <gensim.models.keyedvectors.Vocab object at 0x00000112F3F10088>, 'notifications': <gensim.models.keyedvectors.Vocab object at 0x00000112F3F10608>, 'understanding': <gensim.models.keyedvectors.Vocab object at 0x00000112F3F10308>, 'design': <gensim.models.keyedvectors.Vocab object at 0x00000112F429D588>, 'guidelines': <gensim.models.keyedvectors.Vocab object at 0x00000112F46F8948>, 'platform': <gensim.models.keyedvectors.Vocab object at 0x00000112F46F8E48>, 'aware': <gensim.models.keyedvectors.Vocab object at 0x00000112F46F88C8>, 'differences': <gensim.models.keyedvectors.Vocab object at 0x00000112F46F8308>, 'kotlin/java/swift/objective-c/javascript/c': <gensim.models.keyedvectors.Vocab object at 0x00000112F46F87C8>, '#': <gensim.models.keyedvectors.Vocab object at 0x00000112F46F8EC8>, 'whichever': <gensim.models.keyedvectors.Vocab object at 0x00000112F46F8A88>, 'language': <gensim.models.keyedvectors.Vocab object at 0x00000112F46F8C48>, 'frameworks': <gensim.models.keyedvectors.Vocab object at 0x00000112F46F8888>, 'patterns': <gensim.models.keyedvectors.Vocab object at 0x00000112F46F8708>, 'project': <gensim.models.keyedvectors.Vocab object at 0x00000112F46F8348>, 'specific': <gensim.models.keyedvectors.Vocab object at 0x00000112F46F8C88>, 'hardware': <gensim.models.keyedvectors.Vocab object at 0x00000112F46F8C08>, 'sensors': <gensim.models.keyedvectors.Vocab object at 0x00000112F46F8CC8>, 'like': <gensim.models.keyedvectors.Vocab object at 0x00000112F46F8988>, 'gps': <gensim.models.keyedvectors.Vocab object at 0x00000112F46F8D48>, 'bluetooth': <gensim.models.keyedvectors.Vocab object at 0x00000112F46F8E88>, 'integrations': <gensim.models.keyedvectors.Vocab object at 0x00000112F46F8D88>, 'done': <gensim.models.keyedvectors.Vocab object at 0x00000112F46F8A48>, 'facebook': <gensim.models.keyedvectors.Vocab object at 0x00000112F46F8848>, 'firebase': <gensim.models.keyedvectors.Vocab object at 0x00000112F46F8BC8>, 'education': <gensim.models.keyedvectors.Vocab object at 0x00000112F46F8A08>, 'level': <gensim.models.keyedvectors.Vocab object at 0x00000112F46F8588>, 'certification': <gensim.models.keyedvectors.Vocab object at 0x00000112F46F8748>, 'may': <gensim.models.keyedvectors.Vocab object at 0x00000112F46F8448>, 'require': <gensim.models.keyedvectors.Vocab object at 0x00000112F46F86C8>, 'see': <gensim.models.keyedvectors.Vocab object at 0x00000112F46F8688>, ':': <gensim.models.keyedvectors.Vocab object at 0x00000112F46F85C8>, 'toptal': <gensim.models.keyedvectors.Vocab object at 0x00000112F46F8648>, 'growing': <gensim.models.keyedvectors.Vocab object at 0x00000112F46F8508>, 'community-driven': <gensim.models.keyedvectors.Vocab object at 0x00000112F46F8388>}\n"
     ]
    }
   ],
   "source": [
    "print(words1)"
   ]
  },
  {
   "cell_type": "code",
   "execution_count": 70,
   "metadata": {},
   "outputs": [],
   "source": [
    "similar = model1.wv.most_similar('android')"
   ]
  },
  {
   "cell_type": "code",
   "execution_count": 71,
   "metadata": {},
   "outputs": [
    {
     "name": "stdout",
     "output_type": "stream",
     "text": [
      "[('bluetooth', 0.22995954751968384), ('fixing', 0.22218918800354004), ('interfaces', 0.2180204689502716), ('alamofire', 0.20080652832984924), ('includes', 0.18680721521377563), ('add', 0.174553781747818), ('job', 0.17308393120765686), ('community-driven', 0.16982898116111755), ('appreciated', 0.16766086220741272), ('architectural', 0.16463500261306763)]\n"
     ]
    }
   ],
   "source": [
    "print(similar)"
   ]
  },
  {
   "cell_type": "code",
   "execution_count": null,
   "metadata": {},
   "outputs": [],
   "source": []
  }
 ],
 "metadata": {
  "kernelspec": {
   "display_name": "Python 3",
   "language": "python",
   "name": "python3"
  },
  "language_info": {
   "codemirror_mode": {
    "name": "ipython",
    "version": 3
   },
   "file_extension": ".py",
   "mimetype": "text/x-python",
   "name": "python",
   "nbconvert_exporter": "python",
   "pygments_lexer": "ipython3",
   "version": "3.7.6"
  }
 },
 "nbformat": 4,
 "nbformat_minor": 4
}
